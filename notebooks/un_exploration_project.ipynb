{
 "cells": [
  {
   "cell_type": "code",
   "execution_count": 1,
   "id": "7e31786e-09ab-4a58-a68b-24b80f918827",
   "metadata": {},
   "outputs": [],
   "source": [
    "import pandas as pd\n",
    "import numpy as np\n",
    "import matplotlib.pyplot as plt\n",
    "import seaborn as sns"
   ]
  },
  {
   "cell_type": "code",
   "execution_count": 2,
   "id": "0a13a90a-a1e3-4769-88c5-b7ff62e94860",
   "metadata": {},
   "outputs": [
    {
     "data": {
      "text/html": [
       "<div>\n",
       "<style scoped>\n",
       "    .dataframe tbody tr th:only-of-type {\n",
       "        vertical-align: middle;\n",
       "    }\n",
       "\n",
       "    .dataframe tbody tr th {\n",
       "        vertical-align: top;\n",
       "    }\n",
       "\n",
       "    .dataframe thead th {\n",
       "        text-align: right;\n",
       "    }\n",
       "</style>\n",
       "<table border=\"1\" class=\"dataframe\">\n",
       "  <thead>\n",
       "    <tr style=\"text-align: right;\">\n",
       "      <th></th>\n",
       "      <th>Country or Area</th>\n",
       "      <th>Year</th>\n",
       "      <th>Value</th>\n",
       "      <th>Value Footnotes</th>\n",
       "    </tr>\n",
       "  </thead>\n",
       "  <tbody>\n",
       "    <tr>\n",
       "      <th>0</th>\n",
       "      <td>Afghanistan</td>\n",
       "      <td>2021</td>\n",
       "      <td>1517.016266</td>\n",
       "      <td>NaN</td>\n",
       "    </tr>\n",
       "    <tr>\n",
       "      <th>1</th>\n",
       "      <td>Afghanistan</td>\n",
       "      <td>2020</td>\n",
       "      <td>1968.341002</td>\n",
       "      <td>NaN</td>\n",
       "    </tr>\n",
       "    <tr>\n",
       "      <th>2</th>\n",
       "      <td>Afghanistan</td>\n",
       "      <td>2019</td>\n",
       "      <td>2079.921861</td>\n",
       "      <td>NaN</td>\n",
       "    </tr>\n",
       "    <tr>\n",
       "      <th>3</th>\n",
       "      <td>Afghanistan</td>\n",
       "      <td>2018</td>\n",
       "      <td>2060.698973</td>\n",
       "      <td>NaN</td>\n",
       "    </tr>\n",
       "    <tr>\n",
       "      <th>4</th>\n",
       "      <td>Afghanistan</td>\n",
       "      <td>2017</td>\n",
       "      <td>2096.093111</td>\n",
       "      <td>NaN</td>\n",
       "    </tr>\n",
       "    <tr>\n",
       "      <th>...</th>\n",
       "      <td>...</td>\n",
       "      <td>...</td>\n",
       "      <td>...</td>\n",
       "      <td>...</td>\n",
       "    </tr>\n",
       "    <tr>\n",
       "      <th>7657</th>\n",
       "      <td>Zimbabwe</td>\n",
       "      <td>1994</td>\n",
       "      <td>2670.106615</td>\n",
       "      <td>NaN</td>\n",
       "    </tr>\n",
       "    <tr>\n",
       "      <th>7658</th>\n",
       "      <td>Zimbabwe</td>\n",
       "      <td>1993</td>\n",
       "      <td>2458.783255</td>\n",
       "      <td>NaN</td>\n",
       "    </tr>\n",
       "    <tr>\n",
       "      <th>7659</th>\n",
       "      <td>Zimbabwe</td>\n",
       "      <td>1992</td>\n",
       "      <td>2468.278257</td>\n",
       "      <td>NaN</td>\n",
       "    </tr>\n",
       "    <tr>\n",
       "      <th>7660</th>\n",
       "      <td>Zimbabwe</td>\n",
       "      <td>1991</td>\n",
       "      <td>2781.787843</td>\n",
       "      <td>NaN</td>\n",
       "    </tr>\n",
       "    <tr>\n",
       "      <th>7661</th>\n",
       "      <td>Zimbabwe</td>\n",
       "      <td>1990</td>\n",
       "      <td>2704.757299</td>\n",
       "      <td>NaN</td>\n",
       "    </tr>\n",
       "  </tbody>\n",
       "</table>\n",
       "<p>7662 rows × 4 columns</p>\n",
       "</div>"
      ],
      "text/plain": [
       "     Country or Area  Year        Value  Value Footnotes\n",
       "0        Afghanistan  2021  1517.016266              NaN\n",
       "1        Afghanistan  2020  1968.341002              NaN\n",
       "2        Afghanistan  2019  2079.921861              NaN\n",
       "3        Afghanistan  2018  2060.698973              NaN\n",
       "4        Afghanistan  2017  2096.093111              NaN\n",
       "...              ...   ...          ...              ...\n",
       "7657        Zimbabwe  1994  2670.106615              NaN\n",
       "7658        Zimbabwe  1993  2458.783255              NaN\n",
       "7659        Zimbabwe  1992  2468.278257              NaN\n",
       "7660        Zimbabwe  1991  2781.787843              NaN\n",
       "7661        Zimbabwe  1990  2704.757299              NaN\n",
       "\n",
       "[7662 rows x 4 columns]"
      ]
     },
     "execution_count": 2,
     "metadata": {},
     "output_type": "execute_result"
    }
   ],
   "source": [
    "pd.read_csv('../data/gdp_percapita.csv.csv')"
   ]
  },
  {
   "cell_type": "code",
   "execution_count": 3,
   "id": "f7ee3edd-ecd6-444c-a0dc-9e48420c184e",
   "metadata": {},
   "outputs": [],
   "source": [
    "gdp_df = pd.read_csv('../data/gdp_percapita.csv.csv')"
   ]
  },
  {
   "cell_type": "code",
   "execution_count": 4,
   "id": "9b841b85-7286-481c-9b30-42c61a388c26",
   "metadata": {},
   "outputs": [
    {
     "data": {
      "text/html": [
       "<div>\n",
       "<style scoped>\n",
       "    .dataframe tbody tr th:only-of-type {\n",
       "        vertical-align: middle;\n",
       "    }\n",
       "\n",
       "    .dataframe tbody tr th {\n",
       "        vertical-align: top;\n",
       "    }\n",
       "\n",
       "    .dataframe thead th {\n",
       "        text-align: right;\n",
       "    }\n",
       "</style>\n",
       "<table border=\"1\" class=\"dataframe\">\n",
       "  <thead>\n",
       "    <tr style=\"text-align: right;\">\n",
       "      <th></th>\n",
       "      <th>Country or Area</th>\n",
       "      <th>Year</th>\n",
       "      <th>Value</th>\n",
       "      <th>Value Footnotes</th>\n",
       "    </tr>\n",
       "  </thead>\n",
       "  <tbody>\n",
       "    <tr>\n",
       "      <th>7652</th>\n",
       "      <td>Zimbabwe</td>\n",
       "      <td>1999</td>\n",
       "      <td>2866.032886</td>\n",
       "      <td>NaN</td>\n",
       "    </tr>\n",
       "    <tr>\n",
       "      <th>7653</th>\n",
       "      <td>Zimbabwe</td>\n",
       "      <td>1998</td>\n",
       "      <td>2931.725144</td>\n",
       "      <td>NaN</td>\n",
       "    </tr>\n",
       "    <tr>\n",
       "      <th>7654</th>\n",
       "      <td>Zimbabwe</td>\n",
       "      <td>1997</td>\n",
       "      <td>2896.147308</td>\n",
       "      <td>NaN</td>\n",
       "    </tr>\n",
       "    <tr>\n",
       "      <th>7655</th>\n",
       "      <td>Zimbabwe</td>\n",
       "      <td>1996</td>\n",
       "      <td>2867.026043</td>\n",
       "      <td>NaN</td>\n",
       "    </tr>\n",
       "    <tr>\n",
       "      <th>7656</th>\n",
       "      <td>Zimbabwe</td>\n",
       "      <td>1995</td>\n",
       "      <td>2641.378271</td>\n",
       "      <td>NaN</td>\n",
       "    </tr>\n",
       "    <tr>\n",
       "      <th>7657</th>\n",
       "      <td>Zimbabwe</td>\n",
       "      <td>1994</td>\n",
       "      <td>2670.106615</td>\n",
       "      <td>NaN</td>\n",
       "    </tr>\n",
       "    <tr>\n",
       "      <th>7658</th>\n",
       "      <td>Zimbabwe</td>\n",
       "      <td>1993</td>\n",
       "      <td>2458.783255</td>\n",
       "      <td>NaN</td>\n",
       "    </tr>\n",
       "    <tr>\n",
       "      <th>7659</th>\n",
       "      <td>Zimbabwe</td>\n",
       "      <td>1992</td>\n",
       "      <td>2468.278257</td>\n",
       "      <td>NaN</td>\n",
       "    </tr>\n",
       "    <tr>\n",
       "      <th>7660</th>\n",
       "      <td>Zimbabwe</td>\n",
       "      <td>1991</td>\n",
       "      <td>2781.787843</td>\n",
       "      <td>NaN</td>\n",
       "    </tr>\n",
       "    <tr>\n",
       "      <th>7661</th>\n",
       "      <td>Zimbabwe</td>\n",
       "      <td>1990</td>\n",
       "      <td>2704.757299</td>\n",
       "      <td>NaN</td>\n",
       "    </tr>\n",
       "  </tbody>\n",
       "</table>\n",
       "</div>"
      ],
      "text/plain": [
       "     Country or Area  Year        Value  Value Footnotes\n",
       "7652        Zimbabwe  1999  2866.032886              NaN\n",
       "7653        Zimbabwe  1998  2931.725144              NaN\n",
       "7654        Zimbabwe  1997  2896.147308              NaN\n",
       "7655        Zimbabwe  1996  2867.026043              NaN\n",
       "7656        Zimbabwe  1995  2641.378271              NaN\n",
       "7657        Zimbabwe  1994  2670.106615              NaN\n",
       "7658        Zimbabwe  1993  2458.783255              NaN\n",
       "7659        Zimbabwe  1992  2468.278257              NaN\n",
       "7660        Zimbabwe  1991  2781.787843              NaN\n",
       "7661        Zimbabwe  1990  2704.757299              NaN"
      ]
     },
     "execution_count": 4,
     "metadata": {},
     "output_type": "execute_result"
    }
   ],
   "source": [
    "gdp_df.tail(10)"
   ]
  },
  {
   "cell_type": "code",
   "execution_count": 5,
   "id": "1a42a1e4-8fe6-4e3e-850d-3bb0f8264759",
   "metadata": {},
   "outputs": [
    {
     "name": "stdout",
     "output_type": "stream",
     "text": [
      "(7662, 4)\n",
      "<class 'pandas.core.frame.DataFrame'>\n",
      "RangeIndex: 7662 entries, 0 to 7661\n",
      "Data columns (total 4 columns):\n",
      " #   Column           Non-Null Count  Dtype  \n",
      "---  ------           --------------  -----  \n",
      " 0   Country or Area  7662 non-null   object \n",
      " 1   Year             7662 non-null   int64  \n",
      " 2   Value            7662 non-null   float64\n",
      " 3   Value Footnotes  0 non-null      float64\n",
      "dtypes: float64(2), int64(1), object(1)\n",
      "memory usage: 239.6+ KB\n"
     ]
    }
   ],
   "source": [
    "#Question 5 How many rows and columns are in gdp_df? What are the data types of each column?\n",
    "print(gdp_df.shape)\n",
    "gdp_df.info()"
   ]
  },
  {
   "cell_type": "code",
   "execution_count": 6,
   "id": "dc841454-14b7-43ef-8bc6-f05e15da71ad",
   "metadata": {},
   "outputs": [],
   "source": [
    "#Question 6 : Drop the Value Footnotes column and rename the remaining three to 'Country', 'Year', and 'GDP_Per_Capita'\n",
    "gdp_df.rename(columns={'Country or Area':'Country','Value':'GDP_Per_Capita'},inplace=True)\n",
    "gdp_df.drop(columns=['Value Footnotes'],inplace=True)"
   ]
  },
  {
   "cell_type": "code",
   "execution_count": 7,
   "id": "5fdde744-e304-492e-b345-da59f483aba1",
   "metadata": {},
   "outputs": [
    {
     "name": "stdout",
     "output_type": "stream",
     "text": [
      "          Country  Year  GDP_Per_Capita\n",
      "0     Afghanistan  2021     1517.016266\n",
      "1     Afghanistan  2020     1968.341002\n",
      "2     Afghanistan  2019     2079.921861\n",
      "3     Afghanistan  2018     2060.698973\n",
      "4     Afghanistan  2017     2096.093111\n",
      "...           ...   ...             ...\n",
      "7657     Zimbabwe  1994     2670.106615\n",
      "7658     Zimbabwe  1993     2458.783255\n",
      "7659     Zimbabwe  1992     2468.278257\n",
      "7660     Zimbabwe  1991     2781.787843\n",
      "7661     Zimbabwe  1990     2704.757299\n",
      "\n",
      "[7662 rows x 3 columns]\n"
     ]
    }
   ],
   "source": [
    "print(gdp_df)"
   ]
  },
  {
   "cell_type": "code",
   "execution_count": 8,
   "id": "824c1116-a14f-493b-b03c-9084de1d1ca6",
   "metadata": {},
   "outputs": [
    {
     "name": "stdout",
     "output_type": "stream",
     "text": [
      "Country\n",
      "Djibouti                                              10\n",
      "Somalia                                               10\n",
      "Turks and Caicos Islands                              12\n",
      "Sint Maarten (Dutch part)                             14\n",
      "Kosovo                                                15\n",
      "Cayman Islands                                        16\n",
      "Nauru                                                 19\n",
      "Afghanistan                                           20\n",
      "CuraÃ§ao                                              22\n",
      "Palau                                                 22\n",
      "SÃ£o TomÃ© and Principe                               22\n",
      "Qatar                                                 23\n",
      "Other small states                                    23\n",
      "Timor-Leste                                           23\n",
      "Liberia                                               23\n",
      "Libya                                                 24\n",
      "San Marino                                            25\n",
      "Small states                                          26\n",
      "Montenegro                                            26\n",
      "Maldives                                              28\n",
      "Moldova                                               28\n",
      "Israel                                                28\n",
      "Iceland                                               28\n",
      "Estonia                                               28\n",
      "Croatia                                               28\n",
      "Serbia                                                28\n",
      "Slovenia                                              28\n",
      "Lithuania                                             28\n",
      "Latvia                                                28\n",
      "West Bank and Gaza                                    29\n",
      "Bosnia and Herzegovina                                29\n",
      "Cambodia                                              30\n",
      "Kuwait                                                31\n",
      "Slovak Republic                                       31\n",
      "Turkmenistan                                          31\n",
      "Lebanon                                               32\n",
      "Tonga                                                 32\n",
      "Hungary                                               32\n",
      "Aruba                                                 32\n",
      "Bhutan                                                32\n",
      "Papua New Guinea                                      33\n",
      "Pakistan                                              33\n",
      "Australia                                             33\n",
      "Pacific island small states                           33\n",
      "Austria                                               33\n",
      "Oman                                                  33\n",
      "Panama                                                33\n",
      "Paraguay                                              33\n",
      "Philippines                                           33\n",
      "OECD members                                          33\n",
      "Poland                                                33\n",
      "Portugal                                              33\n",
      "Post-demographic dividend                             33\n",
      "Pre-demographic dividend                              33\n",
      "Puerto Rico                                           33\n",
      "Romania                                               33\n",
      "Russia                                                33\n",
      "Rwanda                                                33\n",
      "Peru                                                  33\n",
      "Norway                                                33\n",
      "Burkina Faso                                          33\n",
      "North America                                         33\n",
      "Mauritius                                             33\n",
      "Mexico                                                33\n",
      "Micronesia                                            33\n",
      "Middle East & North Africa                            33\n",
      "Middle East & North Africa (IDA & IBRD)               33\n",
      "Middle East & North Africa (excluding high income)    33\n",
      "Middle income                                         33\n",
      "Bangladesh                                            33\n",
      "Mongolia                                              33\n",
      "Bahrain                                               33\n",
      "North Macedonia                                       33\n",
      "Morocco                                               33\n",
      "Myanmar                                               33\n",
      "Namibia                                               33\n",
      "Azerbaijan                                            33\n",
      "Nepal                                                 33\n",
      "Netherlands                                           33\n",
      "New Zealand                                           33\n",
      "Nicaragua                                             33\n",
      "Niger                                                 33\n",
      "Nigeria                                               33\n",
      "Samoa                                                 33\n",
      "Mozambique                                            33\n",
      "Armenia                                               33\n",
      "Argentina                                             33\n",
      "Senegal                                               33\n",
      "Tanzania                                              33\n",
      "Thailand                                              33\n",
      "The Bahamas                                           33\n",
      "The Gambia                                            33\n",
      "Africa Western and Central                            33\n",
      "Togo                                                  33\n",
      "Trinidad and Tobago                                   33\n",
      "Tunisia                                               33\n",
      "Africa Eastern and Southern                           33\n",
      "Tuvalu                                                33\n",
      "Tajikistan                                            33\n",
      "TÃ¼rkiye                                              33\n",
      "Ukraine                                               33\n",
      "United Arab Emirates                                  33\n",
      "United Kingdom                                        33\n",
      "United States                                         33\n",
      "Upper middle income                                   33\n",
      "Uruguay                                               33\n",
      "Uzbekistan                                            33\n",
      "Vanuatu                                               33\n",
      "Viet Nam                                              33\n",
      "World                                                 33\n",
      "Uganda                                                33\n",
      "Saudi Arabia                                          33\n",
      "Albania                                               33\n",
      "Sweden                                                33\n",
      "Mauritania                                            33\n",
      "Seychelles                                            33\n",
      "Sierra Leone                                          33\n",
      "Singapore                                             33\n",
      "Arab World                                            33\n",
      "Antigua and Barbuda                                   33\n",
      "Angola                                                33\n",
      "Solomon Islands                                       33\n",
      "Algeria                                               33\n",
      "South Africa                                          33\n",
      "Switzerland                                           33\n",
      "South Asia                                            33\n",
      "Spain                                                 33\n",
      "Sri Lanka                                             33\n",
      "St. Kitts and Nevis                                   33\n",
      "St. Lucia                                             33\n",
      "St. Vincent and the Grenadines                        33\n",
      "Sub-Saharan Africa                                    33\n",
      "Sub-Saharan Africa (IDA & IBRD)                       33\n",
      "Sub-Saharan Africa (excluding high income)            33\n",
      "Sudan                                                 33\n",
      "Suriname                                              33\n",
      "South Asia (IDA & IBRD)                               33\n",
      "Marshall Islands                                      33\n",
      "Barbados                                              33\n",
      "Mali                                                  33\n",
      "East Asia & Pacific (IDA & IBRD)                      33\n",
      "East Asia & Pacific (excluding high income)           33\n",
      "Ecuador                                               33\n",
      "Egypt                                                 33\n",
      "El Salvador                                           33\n",
      "Equatorial Guinea                                     33\n",
      "Bolivia                                               33\n",
      "Eswatini                                              33\n",
      "Ethiopia                                              33\n",
      "Euro area                                             33\n",
      "East Asia & Pacific                                   33\n",
      "Europe & Central Asia                                 33\n",
      "Europe & Central Asia (excluding high income)         33\n",
      "European Union                                        33\n",
      "Fiji                                                  33\n",
      "Finland                                               33\n",
      "Fragile and conflict affected situations              33\n",
      "France                                                33\n",
      "Gabon                                                 33\n",
      "Georgia                                               33\n",
      "Germany                                               33\n",
      "Ghana                                                 33\n",
      "Europe & Central Asia (IDA & IBRD)                    33\n",
      "Greece                                                33\n",
      "Early-demographic dividend                            33\n",
      "Dominica                                              33\n",
      "Burundi                                               33\n",
      "Cabo Verde                                            33\n",
      "Cameroon                                              33\n",
      "Canada                                                33\n",
      "Caribbean small states                                33\n",
      "Brunei                                                33\n",
      "Central African Republic                              33\n",
      "Central Europe and the Baltics                        33\n",
      "Chad                                                  33\n",
      "Chile                                                 33\n",
      "Dominican Republic                                    33\n",
      "China                                                 33\n",
      "Comoros                                               33\n",
      "Congo                                                 33\n",
      "Costa Rica                                            33\n",
      "Brazil                                                33\n",
      "Botswana                                              33\n",
      "Cyprus                                                33\n",
      "Czechia                                               33\n",
      "CÃ´te d'Ivoire                                        33\n",
      "Dem. Rep. Congo                                       33\n",
      "Denmark                                               33\n",
      "Colombia                                              33\n",
      "Malta                                                 33\n",
      "Grenada                                               33\n",
      "Guinea                                                33\n",
      "Benin                                                 33\n",
      "Kyrgyz Republic                                       33\n",
      "Lao PDR                                               33\n",
      "Late-demographic dividend                             33\n",
      "Latin America & Caribbean                             33\n",
      "Latin America & Caribbean (IDA & IBRD)                33\n",
      "Latin America & Caribbean (excluding high income)     33\n",
      "Zambia                                                33\n",
      "Least developed countries: UN classification          33\n",
      "Lesotho                                               33\n",
      "Korea                                                 33\n",
      "Belize                                                33\n",
      "Belarus                                               33\n",
      "Low & middle income                                   33\n",
      "Low income                                            33\n",
      "Lower middle income                                   33\n",
      "Luxembourg                                            33\n",
      "Macao SAR, China                                      33\n",
      "Madagascar                                            33\n",
      "Malawi                                                33\n",
      "Malaysia                                              33\n",
      "Bulgaria                                              33\n",
      "Belgium                                               33\n",
      "Guatemala                                             33\n",
      "Kiribati                                              33\n",
      "Kazakhstan                                            33\n",
      "Guinea-Bissau                                         33\n",
      "Guyana                                                33\n",
      "Haiti                                                 33\n",
      "Heavily indebted poor countries (HIPC)                33\n",
      "High income                                           33\n",
      "Honduras                                              33\n",
      "Hong Kong SAR, China                                  33\n",
      "IBRD only                                             33\n",
      "IDA & IBRD total                                      33\n",
      "IDA blend                                             33\n",
      "Kenya                                                 33\n",
      "IDA only                                              33\n",
      "India                                                 33\n",
      "Indonesia                                             33\n",
      "Iran                                                  33\n",
      "Iraq                                                  33\n",
      "Ireland                                               33\n",
      "Bermuda                                               33\n",
      "Italy                                                 33\n",
      "Jamaica                                               33\n",
      "Japan                                                 33\n",
      "Jordan                                                33\n",
      "IDA total                                             33\n",
      "Zimbabwe                                              33\n"
     ]
    }
   ],
   "source": [
    "#Question 7 : How many countries have data for all years? Which countries are missing many years of data?\n",
    "#Look at the number of observations per year. What do you notice?\n",
    "gdp_countries = gdp_df.groupby('Country')\n",
    "gdp_count = gdp_countries['Year'].count().sort_values()\n",
    "print(gdp_count.to_string())"
   ]
  },
  {
   "cell_type": "code",
   "execution_count": 9,
   "id": "f979ad9b-7eb5-4ede-8f05-c7f4966d6167",
   "metadata": {},
   "outputs": [
    {
     "name": "stdout",
     "output_type": "stream",
     "text": [
      "Year\n",
      "1990    207\n",
      "1991    208\n",
      "1992    210\n",
      "1993    211\n",
      "1994    213\n",
      "1995    223\n",
      "1996    223\n",
      "1997    226\n",
      "1998    226\n",
      "1999    227\n",
      "2022    232\n",
      "2000    233\n",
      "2001    234\n",
      "2002    235\n",
      "2003    235\n",
      "2004    236\n",
      "2005    236\n",
      "2006    237\n",
      "2007    237\n",
      "2008    238\n",
      "2009    239\n",
      "2010    239\n",
      "2012    240\n",
      "2011    240\n",
      "2021    241\n",
      "2013    242\n",
      "2014    242\n",
      "2015    242\n",
      "2016    242\n",
      "2017    242\n",
      "2018    242\n",
      "2019    242\n",
      "2020    242\n"
     ]
    }
   ],
   "source": [
    "gdp_year = gdp_df.groupby('Year')\n",
    "gdp_count2 = gdp_year['Country'].count().sort_values()\n",
    "print(gdp_count2.to_string())"
   ]
  },
  {
   "cell_type": "markdown",
   "id": "643ab6e3-c4f7-4007-8272-aac3a19724a8",
   "metadata": {},
   "source": [
    "Q7 Observation : As the number goes up for the count of country by year the number only\n",
    "goes up. Meaning once the country is in the dataset it stays but any missing data is from before it was entered."
   ]
  },
  {
   "cell_type": "markdown",
   "id": "802159e2-1815-488e-8ed1-457f486adfad",
   "metadata": {},
   "source": [
    "Question 8: Show GDP per capita for the year 2020. Create a histogram, a density plot, a boxplot, and a violin plot"
   ]
  },
  {
   "cell_type": "code",
   "execution_count": 12,
   "id": "da186f9e-76a3-4d7c-ade5-31d3239c9cac",
   "metadata": {},
   "outputs": [
    {
     "name": "stdout",
     "output_type": "stream",
     "text": [
      "                          Country  Year  GDP_Per_Capita\n",
      "1                     Afghanistan  2020     1968.341002\n",
      "22    Africa Eastern and Southern  2020     3455.023119\n",
      "55     Africa Western and Central  2020     3957.933804\n",
      "88                        Albania  2020    13278.369769\n",
      "121                       Algeria  2020    10844.770764\n",
      "...                           ...   ...             ...\n",
      "7503                     Viet Nam  2020    10450.622382\n",
      "7536           West Bank and Gaza  2020     5402.538773\n",
      "7565                        World  2020    16204.169107\n",
      "7598                       Zambia  2020     3183.650773\n",
      "7631                     Zimbabwe  2020     1990.319419\n",
      "\n",
      "[242 rows x 3 columns]\n"
     ]
    }
   ],
   "source": [
    "gdp_capita2020 = gdp_df[gdp_df['Year']==2020]\n",
    "print(gdp_capita2020)"
   ]
  },
  {
   "cell_type": "code",
   "execution_count": 13,
   "id": "6a0d9859-8e57-4f15-aeb9-d1a28d917474",
   "metadata": {},
   "outputs": [
    {
     "data": {
      "text/plain": [
       "<seaborn.axisgrid.FacetGrid at 0x18ec17194f0>"
      ]
     },
     "execution_count": 13,
     "metadata": {},
     "output_type": "execute_result"
    },
    {
     "data": {
      "image/png": "[encoded data removed]",
      "text/plain": [
       "<Figure size 500x500 with 1 Axes>"
      ]
     },
     "metadata": {},
     "output_type": "display_data"
    }
   ],
   "source": [
    "#Q8 Histogram\n",
    "sns.displot( data=gdp_capita2020[\"GDP_Per_Capita\"], kde=True )"
   ]
  },
  {
   "cell_type": "code",
   "execution_count": 14,
   "id": "795927e5-a6cb-468c-b170-d45c471fb09b",
   "metadata": {},
   "outputs": [
    {
     "data": {
      "text/plain": [
       "<Axes: xlabel='GDP_Per_Capita', ylabel='Density'>"
      ]
     },
     "execution_count": 14,
     "metadata": {},
     "output_type": "execute_result"
    },
    {
     "data": {
      "image/png": "[encoded data removed]",
      "text/plain": [
       "<Figure size 640x480 with 1 Axes>"
      ]
     },
     "metadata": {},
     "output_type": "display_data"
    }
   ],
   "source": [
    "#Q8 Density Plot:\n",
    "sns.kdeplot(gdp_capita2020['GDP_Per_Capita'])"
   ]
  },
  {
   "cell_type": "code",
   "execution_count": 15,
   "id": "3592eec9-5360-4208-9b6e-916a17236fdb",
   "metadata": {},
   "outputs": [
    {
     "data": {
      "text/plain": [
       "<Axes: xlabel='GDP_Per_Capita'>"
      ]
     },
     "execution_count": 15,
     "metadata": {},
     "output_type": "execute_result"
    },
    {
     "data": {
      "image/png": "[encoded data removed]",
      "text/plain": [
       "<Figure size 640x480 with 1 Axes>"
      ]
     },
     "metadata": {},
     "output_type": "display_data"
    }
   ],
   "source": [
    "#Q8 Boxplot:\n",
    "sns.boxplot( x=gdp_capita2020[\"GDP_Per_Capita\"])"
   ]
  },
  {
   "cell_type": "code",
   "execution_count": 16,
   "id": "e1439a02-59b1-4b68-8557-4a584440c60f",
   "metadata": {},
   "outputs": [
    {
     "data": {
      "text/plain": [
       "<Axes: ylabel='GDP_Per_Capita'>"
      ]
     },
     "execution_count": 16,
     "metadata": {},
     "output_type": "execute_result"
    },
    {
     "data": {
      "image/png": "[encoded data removed]",
      "text/plain": [
       "<Figure size 640x480 with 1 Axes>"
      ]
     },
     "metadata": {},
     "output_type": "display_data"
    }
   ],
   "source": [
    "#Q8 Violin Plot:\n",
    "sns.violinplot(y=gdp_capita2020[\"GDP_Per_Capita\"])"
   ]
  },
  {
   "cell_type": "markdown",
   "id": "1cba4140-a2d0-4a6a-9dd2-e3a22db3b0c2",
   "metadata": {},
   "source": [
    "Question 9: What was the median GDP per capita value in 2020?"
   ]
  },
  {
   "cell_type": "code",
   "execution_count": 18,
   "id": "877c08c8-1f23-4832-9ac5-d4e319ee1de8",
   "metadata": {},
   "outputs": [
    {
     "data": {
      "text/plain": [
       "13357.997573370474"
      ]
     },
     "execution_count": 18,
     "metadata": {},
     "output_type": "execute_result"
    }
   ],
   "source": [
    "gdp_capita2020['GDP_Per_Capita'].median()"
   ]
  },
  {
   "cell_type": "markdown",
   "id": "772494b3-0fb7-47b1-9918-cb99cd2fe677",
   "metadata": {},
   "source": [
    "Question 10: For this question, you're going to create some visualizations to compare GDP per capita values for the years\n",
    "1990, 2000, 2010, and 2020. Start by subsetting your data to just these 4 years into a new DataFrame named gdp_decades.\n",
    "Using this, create the following 4 plots:\n",
    "A boxplot\r\n",
    "A barplot (check out the Barplot with Seaborn sectio)\r\n",
    "A scatterplot\r\n",
    "A scatterplot with a trend line overlrn)"
   ]
  },
  {
   "cell_type": "code",
   "execution_count": 20,
   "id": "96df04d7-d0b6-49ef-93b4-420a5d63444a",
   "metadata": {},
   "outputs": [],
   "source": [
    "decades=(1990,2000,2010,2020)\n",
    "gdp_decades = gdp_df[gdp_df['Year'].isin(decades)]"
   ]
  },
  {
   "cell_type": "code",
   "execution_count": 21,
   "id": "7d278052-c197-4f09-bfed-71966c0c1986",
   "metadata": {},
   "outputs": [
    {
     "data": {
      "text/plain": [
       "<Axes: xlabel='Year', ylabel='GDP_Per_Capita'>"
      ]
     },
     "execution_count": 21,
     "metadata": {},
     "output_type": "execute_result"
    },
    {
     "data": {
      "image/png": "[encoded data removed]",
      "text/plain": [
       "<Figure size 640x480 with 1 Axes>"
      ]
     },
     "metadata": {},
     "output_type": "display_data"
    }
   ],
   "source": [
    "sns.boxplot(gdp_decades, x=\"Year\", y=\"GDP_Per_Capita\")"
   ]
  },
  {
   "cell_type": "code",
   "execution_count": 22,
   "id": "72160cbc-32b7-4ed5-a48a-ff30473dd038",
   "metadata": {},
   "outputs": [
    {
     "data": {
      "text/plain": [
       "<Axes: xlabel='Year', ylabel='GDP_Per_Capita'>"
      ]
     },
     "execution_count": 22,
     "metadata": {},
     "output_type": "execute_result"
    },
    {
     "data": {
      "image/png": "[encoded data removed]",
      "text/plain": [
       "<Figure size 640x480 with 1 Axes>"
      ]
     },
     "metadata": {},
     "output_type": "display_data"
    }
   ],
   "source": [
    "sns.barplot(data=gdp_decades, x=\"Year\", y=\"GDP_Per_Capita\")"
   ]
  },
  {
   "cell_type": "code",
   "execution_count": 23,
   "id": "09c3c4e5-19ea-44d4-afbd-02d8cb855ab4",
   "metadata": {},
   "outputs": [
    {
     "data": {
      "text/plain": [
       "<Axes: xlabel='Year', ylabel='GDP_Per_Capita'>"
      ]
     },
     "execution_count": 23,
     "metadata": {},
     "output_type": "execute_result"
    },
    {
     "data": {
      "image/png": "[encoded data removed]",
      "text/plain": [
       "<Figure size 640x480 with 1 Axes>"
      ]
     },
     "metadata": {},
     "output_type": "display_data"
    }
   ],
   "source": [
    "sns.scatterplot(data=gdp_decades, x=\"Year\", y=\"GDP_Per_Capita\")"
   ]
  },
  {
   "cell_type": "code",
   "execution_count": 24,
   "id": "2316a46e-db3f-4df4-a067-206e4aa05cba",
   "metadata": {},
   "outputs": [
    {
     "data": {
      "text/plain": [
       "<Axes: xlabel='Year', ylabel='GDP_Per_Capita'>"
      ]
     },
     "execution_count": 24,
     "metadata": {},
     "output_type": "execute_result"
    },
    {
     "data": {
      "image/png": "[encoded data removed]",
      "text/plain": [
       "<Figure size 640x480 with 1 Axes>"
      ]
     },
     "metadata": {},
     "output_type": "display_data"
    }
   ],
   "source": [
    "sns.regplot(data=gdp_decades, x=\"Year\", y=\"GDP_Per_Capita\")"
   ]
  },
  {
   "cell_type": "markdown",
   "id": "e5e4171c-02af-46de-ad85-272bc281de83",
   "metadata": {},
   "source": [
    "Question 11: Which country was the first to have a GDP per capita greater than $100,000?"
   ]
  },
  {
   "cell_type": "code",
   "execution_count": 26,
   "id": "6d6087d9-2dd6-4e4c-ae64-8b0f11607ead",
   "metadata": {},
   "outputs": [
    {
     "data": {
      "text/html": [
       "<div>\n",
       "<style scoped>\n",
       "    .dataframe tbody tr th:only-of-type {\n",
       "        vertical-align: middle;\n",
       "    }\n",
       "\n",
       "    .dataframe tbody tr th {\n",
       "        vertical-align: top;\n",
       "    }\n",
       "\n",
       "    .dataframe thead th {\n",
       "        text-align: right;\n",
       "    }\n",
       "</style>\n",
       "<table border=\"1\" class=\"dataframe\">\n",
       "  <thead>\n",
       "    <tr style=\"text-align: right;\">\n",
       "      <th></th>\n",
       "      <th>Country</th>\n",
       "      <th>Year</th>\n",
       "      <th>GDP_Per_Capita</th>\n",
       "    </tr>\n",
       "  </thead>\n",
       "  <tbody>\n",
       "    <tr>\n",
       "      <th>7302</th>\n",
       "      <td>United Arab Emirates</td>\n",
       "      <td>1990</td>\n",
       "      <td>105893.626059</td>\n",
       "    </tr>\n",
       "  </tbody>\n",
       "</table>\n",
       "</div>"
      ],
      "text/plain": [
       "                   Country  Year  GDP_Per_Capita\n",
       "7302  United Arab Emirates  1990   105893.626059"
      ]
     },
     "execution_count": 26,
     "metadata": {},
     "output_type": "execute_result"
    }
   ],
   "source": [
    "gdp_first100k = gdp_df[gdp_df['GDP_Per_Capita']>100000]\n",
    "gdp_first100k.nsmallest(1, 'Year', keep='first')"
   ]
  },
  {
   "cell_type": "markdown",
   "id": "dcce6362-eae8-4268-a9cb-0030c935715b",
   "metadata": {},
   "source": [
    "Question 12: Which country had the highest GDP per capita in 2020? Create a plot showing how this country's\n",
    "GDP per capita has changed over the timespan of the dataset."
   ]
  },
  {
   "cell_type": "code",
   "execution_count": 28,
   "id": "6f61912e-4e4a-414f-88c7-99eac687b37b",
   "metadata": {},
   "outputs": [
    {
     "data": {
      "text/html": [
       "<div>\n",
       "<style scoped>\n",
       "    .dataframe tbody tr th:only-of-type {\n",
       "        vertical-align: middle;\n",
       "    }\n",
       "\n",
       "    .dataframe tbody tr th {\n",
       "        vertical-align: top;\n",
       "    }\n",
       "\n",
       "    .dataframe thead th {\n",
       "        text-align: right;\n",
       "    }\n",
       "</style>\n",
       "<table border=\"1\" class=\"dataframe\">\n",
       "  <thead>\n",
       "    <tr style=\"text-align: right;\">\n",
       "      <th></th>\n",
       "      <th>Country</th>\n",
       "      <th>Year</th>\n",
       "      <th>GDP_Per_Capita</th>\n",
       "    </tr>\n",
       "  </thead>\n",
       "  <tbody>\n",
       "    <tr>\n",
       "      <th>4148</th>\n",
       "      <td>Luxembourg</td>\n",
       "      <td>2020</td>\n",
       "      <td>111751.314751</td>\n",
       "    </tr>\n",
       "  </tbody>\n",
       "</table>\n",
       "</div>"
      ],
      "text/plain": [
       "         Country  Year  GDP_Per_Capita\n",
       "4148  Luxembourg  2020   111751.314751"
      ]
     },
     "execution_count": 28,
     "metadata": {},
     "output_type": "execute_result"
    }
   ],
   "source": [
    "gdp_topgdp2020 = gdp_df[gdp_df['Year']==2020]\n",
    "gdp_topgdp2020.nlargest(1, 'GDP_Per_Capita')"
   ]
  },
  {
   "cell_type": "code",
   "execution_count": 29,
   "id": "4f803327-e966-4d78-86c1-02cb2c9414df",
   "metadata": {},
   "outputs": [
    {
     "data": {
      "text/plain": [
       "0       False\n",
       "1        True\n",
       "2       False\n",
       "3       False\n",
       "4       False\n",
       "        ...  \n",
       "7657    False\n",
       "7658    False\n",
       "7659    False\n",
       "7660    False\n",
       "7661    False\n",
       "Name: Year, Length: 7662, dtype: bool"
      ]
     },
     "execution_count": 29,
     "metadata": {},
     "output_type": "execute_result"
    }
   ],
   "source": [
    "gdp_df['Year']==2020"
   ]
  },
  {
   "cell_type": "code",
   "execution_count": 30,
   "id": "360e3f74-6275-4e5a-834b-128ec6ec8e15",
   "metadata": {},
   "outputs": [
    {
     "data": {
      "text/plain": [
       "<Axes: xlabel='Year', ylabel='GDP_Per_Capita'>"
      ]
     },
     "execution_count": 30,
     "metadata": {},
     "output_type": "execute_result"
    },
    {
     "data": {
      "image/png": "[encoded data removed]",
      "text/plain": [
       "<Figure size 640x480 with 1 Axes>"
      ]
     },
     "metadata": {},
     "output_type": "display_data"
    }
   ],
   "source": [
    "#Q12 Plot:\n",
    "gdp_lburg = gdp_df[gdp_df['Country']==\"Luxembourg\"]\n",
    "sns.lineplot(data=gdp_lburg, x=\"Year\", y=\"GDP_Per_Capita\")"
   ]
  },
  {
   "cell_type": "markdown",
   "id": "c4163322-b0ee-4cab-b735-d9812f8a72fe",
   "metadata": {},
   "source": [
    "Question 13: Which country had the lowest GDP per capita in 2020? Create a plot showing how this country's GDP per capita has changed over the timespan of the dataset. Bonus question: Is it true in general that coutries had a higher GDP per capita in 2020 than in 1990? Which countries had lower GDP per capita in 2020 than in 1990?"
   ]
  },
  {
   "cell_type": "code",
   "execution_count": 32,
   "id": "4e4d0229-d2a7-41c8-9d25-969d3ac74246",
   "metadata": {},
   "outputs": [
    {
     "data": {
      "text/html": [
       "<div>\n",
       "<style scoped>\n",
       "    .dataframe tbody tr th:only-of-type {\n",
       "        vertical-align: middle;\n",
       "    }\n",
       "\n",
       "    .dataframe tbody tr th {\n",
       "        vertical-align: top;\n",
       "    }\n",
       "\n",
       "    .dataframe thead th {\n",
       "        text-align: right;\n",
       "    }\n",
       "</style>\n",
       "<table border=\"1\" class=\"dataframe\">\n",
       "  <thead>\n",
       "    <tr style=\"text-align: right;\">\n",
       "      <th></th>\n",
       "      <th>Country</th>\n",
       "      <th>Year</th>\n",
       "      <th>GDP_Per_Capita</th>\n",
       "    </tr>\n",
       "  </thead>\n",
       "  <tbody>\n",
       "    <tr>\n",
       "      <th>973</th>\n",
       "      <td>Burundi</td>\n",
       "      <td>2020</td>\n",
       "      <td>711.355263</td>\n",
       "    </tr>\n",
       "  </tbody>\n",
       "</table>\n",
       "</div>"
      ],
      "text/plain": [
       "     Country  Year  GDP_Per_Capita\n",
       "973  Burundi  2020      711.355263"
      ]
     },
     "execution_count": 32,
     "metadata": {},
     "output_type": "execute_result"
    }
   ],
   "source": [
    "gdp_lowgdp2020 = gdp_df[gdp_df['Year']==2020]\n",
    "gdp_lowgdp2020.nsmallest(1, 'GDP_Per_Capita', keep='first')"
   ]
  },
  {
   "cell_type": "code",
   "execution_count": 33,
   "id": "83a3bb7d-3c0c-49cb-b065-06076e7dae40",
   "metadata": {},
   "outputs": [
    {
     "data": {
      "text/plain": [
       "<Axes: xlabel='Year', ylabel='GDP_Per_Capita'>"
      ]
     },
     "execution_count": 33,
     "metadata": {},
     "output_type": "execute_result"
    },
    {
     "data": {
      "image/png": "[encoded data removed]",
      "text/plain": [
       "<Figure size 640x480 with 1 Axes>"
      ]
     },
     "metadata": {},
     "output_type": "display_data"
    }
   ],
   "source": [
    "#Q13 Plot:\n",
    "gdp_burundi = gdp_df[gdp_df['Country']==\"Burundi\"]\n",
    "sns.lineplot(data=gdp_burundi, x=\"Year\", y=\"GDP_Per_Capita\")"
   ]
  },
  {
   "cell_type": "markdown",
   "id": "72cfcf60-341f-493b-8053-5a69611fd108",
   "metadata": {},
   "source": [
    "Question 14: Read in the internet use dataset into a DataFrame named internet_df. You will likely get errors when doing this. Check the arguments for the read_csv function to find ones that can help correct the errors (https://pandas.pydata.org/docs/reference/api/pandas.read_csv.html) Once you are able to read it in, take per a look at the top and bottom few rows to make sure that it has been read in correctly. Also, check the datatypes of the columns.\r\n"
   ]
  },
  {
   "cell_type": "code",
   "execution_count": 35,
   "id": "bc2080e0-65f9-40be-aa1b-deece230bbe5",
   "metadata": {},
   "outputs": [
    {
     "name": "stdout",
     "output_type": "stream",
     "text": [
      "     Country or Area  Year      Value Value Footnotes\n",
      "0        Afghanistan  2019  17.600000               1\n",
      "1        Afghanistan  2018  16.800000               2\n",
      "2        Afghanistan  2017  13.500000               3\n",
      "3        Afghanistan  2016  11.000000               4\n",
      "4        Afghanistan  2015   8.260000               4\n",
      "...              ...   ...        ...             ...\n",
      "6078        Zimbabwe  1997   0.033080             NaN\n",
      "6079        Zimbabwe  1996   0.016790             NaN\n",
      "6080        Zimbabwe  1995   0.007684             NaN\n",
      "6081        Zimbabwe  1994   0.001739             NaN\n",
      "6082        Zimbabwe  1990   0.000000             NaN\n",
      "\n",
      "[6083 rows x 4 columns]\n"
     ]
    }
   ],
   "source": [
    "internet_df = pd.read_csv('../data/internet_use.csv.csv',nrows=6083)\n",
    "print(internet_df)"
   ]
  },
  {
   "cell_type": "markdown",
   "id": "a4e5e187-dd06-4718-a129-9b6ee78b38f1",
   "metadata": {},
   "source": [
    "Question 15: Drop the Value Footnotes column and rename the remaining three to 'Country', 'Year', and 'Internet_Users_Pct'."
   ]
  },
  {
   "cell_type": "code",
   "execution_count": 37,
   "id": "1ace97cd-ae42-41dc-9b7e-1c273f9d834c",
   "metadata": {},
   "outputs": [],
   "source": [
    "internet_df.rename(columns={'Country or Area':'Country','Value':'Internet_Users_Pct'},inplace=True)\n",
    "internet_df.drop(columns=['Value Footnotes'],inplace=True)\n",
    "#Question 6 : Drop the Value Footnotes column and rename the remaining three to 'Country', 'Year', and 'GDP_Per_Capita'\n",
    "#gdp_df.rename(columns={'Country or Area':'Country','Value':'GDP_Per_Capita'},inplace=True)\n",
    "#gdp_df.drop(columns=['Value Footnotes'],inplace=True)"
   ]
  },
  {
   "cell_type": "code",
   "execution_count": 38,
   "id": "34680ec3-083d-4a00-aedb-354ae4c20035",
   "metadata": {},
   "outputs": [
    {
     "name": "stdout",
     "output_type": "stream",
     "text": [
      "          Country  Year  Internet_Users_Pct\n",
      "0     Afghanistan  2019           17.600000\n",
      "1     Afghanistan  2018           16.800000\n",
      "2     Afghanistan  2017           13.500000\n",
      "3     Afghanistan  2016           11.000000\n",
      "4     Afghanistan  2015            8.260000\n",
      "...           ...   ...                 ...\n",
      "6078     Zimbabwe  1997            0.033080\n",
      "6079     Zimbabwe  1996            0.016790\n",
      "6080     Zimbabwe  1995            0.007684\n",
      "6081     Zimbabwe  1994            0.001739\n",
      "6082     Zimbabwe  1990            0.000000\n",
      "\n",
      "[6083 rows x 3 columns]\n"
     ]
    }
   ],
   "source": [
    "print(internet_df)"
   ]
  },
  {
   "cell_type": "markdown",
   "id": "fe44dae6-221b-4770-a474-e537528b2e40",
   "metadata": {},
   "source": [
    "Question 16: Look at the number of observations in this dataset per year. What do you notice?"
   ]
  },
  {
   "cell_type": "code",
   "execution_count": 40,
   "id": "02384089-d4ec-4d5f-bbbc-1f6df4ca9ba0",
   "metadata": {},
   "outputs": [
    {
     "data": {
      "text/plain": [
       "Year\n",
       "1990    226\n",
       "1991     39\n",
       "1992     50\n",
       "1993     66\n",
       "1994     92\n",
       "1995    141\n",
       "1996    177\n",
       "1997    188\n",
       "1998    195\n",
       "1999    207\n",
       "2000    210\n",
       "2001    212\n",
       "2002    214\n",
       "2003    208\n",
       "2004    210\n",
       "2005    212\n",
       "2006    212\n",
       "2007    217\n",
       "2008    214\n",
       "2009    214\n",
       "2010    209\n",
       "2011    214\n",
       "2012    209\n",
       "2013    203\n",
       "2014    204\n",
       "2015    203\n",
       "2016    206\n",
       "2017    205\n",
       "2018    174\n",
       "2019    185\n",
       "2020    186\n",
       "2021    186\n",
       "2022    184\n",
       "2023     11\n",
       "Name: Country, dtype: int64"
      ]
     },
     "execution_count": 40,
     "metadata": {},
     "output_type": "execute_result"
    }
   ],
   "source": [
    "internet_df.groupby(\"Year\")['Country'].count()\n",
    "#From 1990 to 1991 the value shoots down by a large number. The values then go up with a little fluctuation up until 2008\n",
    "#where it starts to go down again with a little fluctuation. Then the last year is 11? There could be something wrong or missing with the data?"
   ]
  },
  {
   "cell_type": "markdown",
   "id": "e0d54789-58a0-4069-824f-3df2fba775f1",
   "metadata": {},
   "source": [
    "Question 17: What is the first year to have a non-zero internet users percentage value?"
   ]
  },
  {
   "cell_type": "code",
   "execution_count": 42,
   "id": "aabc2a88-c138-4e8b-a67f-019a86612dfa",
   "metadata": {},
   "outputs": [
    {
     "data": {
      "text/html": [
       "<div>\n",
       "<style scoped>\n",
       "    .dataframe tbody tr th:only-of-type {\n",
       "        vertical-align: middle;\n",
       "    }\n",
       "\n",
       "    .dataframe tbody tr th {\n",
       "        vertical-align: top;\n",
       "    }\n",
       "\n",
       "    .dataframe thead th {\n",
       "        text-align: right;\n",
       "    }\n",
       "</style>\n",
       "<table border=\"1\" class=\"dataframe\">\n",
       "  <thead>\n",
       "    <tr style=\"text-align: right;\">\n",
       "      <th></th>\n",
       "      <th>Country</th>\n",
       "      <th>Year</th>\n",
       "      <th>Internet_Users_Pct</th>\n",
       "    </tr>\n",
       "  </thead>\n",
       "  <tbody>\n",
       "    <tr>\n",
       "      <th>306</th>\n",
       "      <td>Australia</td>\n",
       "      <td>1990</td>\n",
       "      <td>0.585095</td>\n",
       "    </tr>\n",
       "  </tbody>\n",
       "</table>\n",
       "</div>"
      ],
      "text/plain": [
       "       Country  Year  Internet_Users_Pct\n",
       "306  Australia  1990            0.585095"
      ]
     },
     "execution_count": 42,
     "metadata": {},
     "output_type": "execute_result"
    }
   ],
   "source": [
    "intusers_firstnonzero = internet_df[internet_df['Internet_Users_Pct']>0]\n",
    "intusers_firstnonzero.nsmallest(1, 'Year', keep='first')"
   ]
  },
  {
   "cell_type": "markdown",
   "id": "0727070f-da0e-4299-890a-d706a24da4f6",
   "metadata": {},
   "source": [
    "Question 18: How does the distribution of internet users percent differ for 2000 and 2014?"
   ]
  },
  {
   "cell_type": "code",
   "execution_count": 44,
   "id": "b9a9fcd9-740a-4856-a201-7d2ef86cf36f",
   "metadata": {},
   "outputs": [
    {
     "name": "stdout",
     "output_type": "stream",
     "text": [
      "                                             Country  Year  Internet_Users_Pct\n",
      "5                                        Afghanistan  2014            7.000000\n",
      "28                                           Albania  2014           54.300000\n",
      "42                                           Albania  2000            0.114097\n",
      "57                                           Algeria  2014           29.500000\n",
      "71                                           Algeria  2000            0.491706\n",
      "87                                           Andorra  2014           86.100000\n",
      "100                                          Andorra  2000           10.538800\n",
      "114                                           Angola  2014           21.362300\n",
      "128                                           Angola  2000            0.105046\n",
      "136                                         Anguilla  2014           70.390000\n",
      "150                                         Anguilla  2000           22.405400\n",
      "161                              Antigua and Barbuda  2014           67.780000\n",
      "175                              Antigua and Barbuda  2000            6.482230\n",
      "190                                        Argentina  2014           64.700000\n",
      "204                                        Argentina  2000            7.038680\n",
      "222                                          Armenia  2014           54.622800\n",
      "236                                          Armenia  2000            1.300470\n",
      "247                                            Aruba  2014           83.780000\n",
      "261                                            Aruba  2000           15.442800\n",
      "272                                        Ascension  2000           34.937900\n",
      "285                                        Australia  2014           84.000000\n",
      "296                                        Australia  2000           46.756100\n",
      "315                                          Austria  2014           80.995800\n",
      "329                                          Austria  2000           33.730100\n",
      "349                                       Azerbaijan  2014           75.000000\n",
      "361                                       Azerbaijan  2000            0.147758\n",
      "377                                          Bahamas  2014           76.920000\n",
      "391                                          Bahamas  2000            8.000000\n",
      "406                                          Bahrain  2014           90.503100\n",
      "420                                          Bahrain  2000            6.153730\n",
      "436                                       Bangladesh  2014           11.900000\n",
      "450                                       Bangladesh  2000            0.071039\n",
      "463                                         Barbados  2014           71.900000\n",
      "477                                         Barbados  2000            3.973680\n",
      "492                                          Belarus  2014           59.016300\n",
      "503                                          Belarus  2000            1.860400\n",
      "519                                          Belgium  2014           85.001200\n",
      "533                                          Belgium  2000           29.431700\n",
      "552                                           Belize  2014           38.700000\n",
      "564                                           Belize  2000            5.963840\n",
      "579                                            Benin  2014            6.000000\n",
      "593                                            Benin  2000            0.225248\n",
      "602                                          Bermuda  2014           96.800000\n",
      "616                                          Bermuda  2000           42.949900\n",
      "631                                           Bhutan  2014           30.300000\n",
      "645                                           Bhutan  2000            0.400944\n",
      "656                 Bolivia (Plurinational State of)  2014           34.601600\n",
      "670                 Bolivia (Plurinational State of)  2000            1.442760\n",
      "686                           Bosnia and Herzegovina  2014           49.917700\n",
      "700                           Bosnia and Herzegovina  2000            1.082960\n",
      "714                                         Botswana  2014           36.744700\n",
      "728                                         Botswana  2000            2.902670\n",
      "744                                           Brazil  2014           54.551000\n",
      "758                                           Brazil  2000            2.870690\n",
      "785                                Brunei Darussalam  2014           68.770000\n",
      "799                                Brunei Darussalam  2000            8.996280\n",
      "814                                         Bulgaria  2014           55.490400\n",
      "828                                         Bulgaria  2000            5.370920\n",
      "845                                     Burkina Faso  2014            6.000000\n",
      "859                                     Burkina Faso  2000            0.077080\n",
      "873                                          Burundi  2014            1.042390\n",
      "887                                          Burundi  2000            0.077248\n",
      "906                                       Cabo Verde  2014           40.260000\n",
      "920                                       Cabo Verde  2000            1.822440\n",
      "932                                         Cambodia  2014           14.000000\n",
      "946                                         Cambodia  2000            0.047023\n",
      "959                                         Cameroon  2014           16.214900\n",
      "973                                         Cameroon  2000            0.252120\n",
      "986                                           Canada  2014           87.120000\n",
      "1000                                          Canada  2000           51.300000\n",
      "1014                                  Cayman Islands  2014           74.100000\n",
      "1033                        Central African Republic  2014            2.700000\n",
      "1047                        Central African Republic  2000            0.053394\n",
      "1061                                            Chad  2014            2.900000\n",
      "1075                                            Chad  2000            0.035707\n",
      "1088                                           Chile  2014           61.110000\n",
      "1102                                           Chile  2000           16.600000\n",
      "1120                                           China  2014           47.900000\n",
      "1134                                           China  2000            1.775910\n",
      "1151  China, Hong Kong Special Administrative Region  2014           79.866300\n",
      "1165  China, Hong Kong Special Administrative Region  2000           27.827800\n",
      "1184      China, Macao Special Administrative Region  2014           69.780900\n",
      "1198      China, Macao Special Administrative Region  2000           13.608600\n",
      "1214                                        Colombia  2014           52.568100\n",
      "1228                                        Colombia  2000            2.207530\n",
      "1240                                         Comoros  2014            6.980000\n",
      "1254                                         Comoros  2000            0.271741\n",
      "1265                         Congo (Republic of the)  2014            7.110000\n",
      "1279                         Congo (Republic of the)  2000            0.026355\n",
      "1287                                    Cook Islands  2014           48.000000\n",
      "1301                                    Cook Islands  2000           15.656100\n",
      "1315                                      Costa Rica  2014           53.000000\n",
      "1329                                      Costa Rica  2000            5.800250\n",
      "1347                                   Côte d'Ivoire  2014           10.000000\n",
      "1361                                   Côte d'Ivoire  2000            0.231462\n",
      "1376                                         Croatia  2014           68.567900\n",
      "1390                                         Croatia  2000            6.644880\n",
      "1406                                            Cuba  2014           29.070200\n",
      "1420                                            Cuba  2000            0.541183\n",
      "1437                                          Cyprus  2014           69.328700\n",
      "1451                                          Cyprus  2000           15.255400\n",
      "1469                                  Czech Republic  2014           74.231700\n",
      "1483                                  Czech Republic  2000            9.780530\n",
      "1504           Democratic People's Republic of Korea  2000            0.000000\n",
      "1517                Democratic Republic of the Congo  2014            3.000000\n",
      "1531                Democratic Republic of the Congo  2000            0.005902\n",
      "1546                                         Denmark  2014           95.993500\n",
      "1560                                         Denmark  2000           39.172400\n",
      "1579                                        Djibouti  2014           17.000000\n",
      "1593                                        Djibouti  2000            0.194501\n",
      "1607                                        Dominica  2014           57.500000\n",
      "1621                                        Dominica  2000            8.814840\n",
      "1635                              Dominican Republic  2014           49.580000\n",
      "1649                              Dominican Republic  2000            3.704690\n",
      "1665                                         Ecuador  2014           45.590400\n",
      "1679                                         Ecuador  2000            1.462190\n",
      "1697                                           Egypt  2014           33.894600\n",
      "1711                                           Egypt  2000            0.641265\n",
      "1728                                     El Salvador  2014           24.761700\n",
      "1742                                     El Salvador  2000            1.177400\n",
      "1755                               Equatorial Guinea  2014           18.860000\n",
      "1769                               Equatorial Guinea  2000            0.132355\n",
      "1782                                         Eritrea  2014            0.990000\n",
      "1792                                         Eritrea  2000            0.136712\n",
      "1809                                         Estonia  2014           84.241500\n",
      "1823                                         Estonia  2000           28.577000\n",
      "1841                                        Eswatini  2014           25.000000\n",
      "1855                                        Eswatini  2000            0.926192\n",
      "1870                                        Ethiopia  2014            7.700000\n",
      "1884                                        Ethiopia  2000            0.015264\n",
      "1893                     Falkland (Malvinas) Islands  2014           97.600000\n",
      "1907                     Falkland (Malvinas) Islands  2000           58.620700\n",
      "1917                                   Faroe Islands  2014           93.300000\n",
      "1931                                   Faroe Islands  2000           32.916400\n",
      "1946                                            Fiji  2014           37.400000\n",
      "1960                                            Fiji  2000            1.496850\n",
      "1977                                         Finland  2014           86.530400\n",
      "1991                                         Finland  2000           37.248500\n",
      "2010                                          France  2014           83.751100\n",
      "2024                                          France  2000           14.307900\n",
      "2044                                   French Guiana  2000            9.687340\n",
      "2053                                French Polynesia  2014           60.680000\n",
      "2067                                French Polynesia  2000            6.357060\n",
      "2081                                           Gabon  2014           38.071200\n",
      "2095                                           Gabon  2000            1.216140\n",
      "2109                                          Gambia  2014           15.560000\n",
      "2123                                          Gambia  2000            0.921795\n",
      "2138                                         Georgia  2014           49.102500\n",
      "2152                                         Georgia  2000            0.484746\n",
      "2168                                         Germany  2014           86.193700\n",
      "2182                                         Germany  2000           30.216300\n",
      "2201                                           Ghana  2014           19.000000\n",
      "2215                                           Ghana  2000            0.153615\n",
      "2235                                       Gibraltar  2000           19.131600\n",
      "2248                                          Greece  2014           63.207300\n",
      "2262                                          Greece  2000            9.138840\n",
      "2276                                       Greenland  2014           66.700000\n",
      "2290                                       Greenland  2000           31.747800\n",
      "2306                                         Grenada  2014           51.600000\n",
      "2320                                         Grenada  2000            4.063910\n",
      "2340                                      Guadeloupe  2000            5.825250\n",
      "2349                                            Guam  2014           69.270000\n",
      "2363                                            Guam  2000           16.113100\n",
      "2379                                       Guatemala  2014           23.400000\n",
      "2393                                       Guatemala  2000            0.712333\n",
      "2407                                        Guernsey  2000           31.897900\n",
      "2421                                          Guinea  2014            6.400000\n",
      "2435                                          Guinea  2000            0.095425\n",
      "2451                                   Guinea-Bissau  2014            3.320000\n",
      "2465                                   Guinea-Bissau  2000            0.230103\n",
      "2478                                          Guyana  2014           32.000000\n",
      "2492                                          Guyana  2000            0.600000\n",
      "2503                                           Haiti  2014           11.400000\n",
      "2517                                           Haiti  2000            0.231271\n",
      "2530                                        Honduras  2014           23.000000\n",
      "2544                                        Honduras  2000            1.203860\n",
      "2559                                         Hungary  2014           75.653200\n",
      "2573                                         Hungary  2000            6.999680\n",
      "2592                                         Iceland  2014           98.158000\n",
      "2606                                         Iceland  2000           44.470500\n",
      "2624                                           India  2014           13.500000\n",
      "2638                                           India  2000            0.527532\n",
      "2656                                       Indonesia  2014           17.143200\n",
      "2670                                       Indonesia  2000            0.925564\n",
      "2686                      Iran (Islamic Republic of)  2014           39.353600\n",
      "2700                      Iran (Islamic Republic of)  2000            0.934190\n",
      "2716                                            Iraq  2014           11.645300\n",
      "2739                                         Ireland  2014           83.491700\n",
      "2753                                         Ireland  2000           17.850500\n",
      "2772                                          Israel  2014           75.017800\n",
      "2786                                          Israel  2000           20.873800\n",
      "2805                                           Italy  2014           55.638500\n",
      "2819                                           Italy  2000           23.110900\n",
      "2838                                         Jamaica  2014           40.402700\n",
      "2852                                         Jamaica  2000            3.115780\n",
      "2868                                           Japan  2014           89.106800\n",
      "2882                                           Japan  2000           29.990700\n",
      "2902                                          Jersey  2000            9.218710\n",
      "2916                                          Jordan  2014           46.200000\n",
      "2930                                          Jordan  2000            2.623280\n",
      "2945                                      Kazakhstan  2014           66.000000\n",
      "2959                                      Kazakhstan  2000            0.668594\n",
      "2975                                           Kenya  2014           16.500000\n",
      "2989                                           Kenya  2000            0.318060\n",
      "3004                                        Kiribati  2014           12.250000\n",
      "3018                                        Kiribati  2000            1.785230\n",
      "3030                            Korea (Republic  of)  2014           87.556800\n",
      "3044                            Korea (Republic  of)  2000           44.700000\n",
      "3066                                          Kuwait  2014           78.700000\n",
      "3080                                          Kuwait  2000            6.731400\n",
      "3097                                      Kyrgyzstan  2014           28.300000\n",
      "3111                                      Kyrgyzstan  2000            1.041400\n",
      "3123                Lao People's Democratic Republic  2014           14.260000\n",
      "3137                Lao People's Democratic Republic  2000            0.111044\n",
      "3150                                          Latvia  2014           75.826100\n",
      "3164                                          Latvia  2000            6.319060\n",
      "3178                                         Lebanon  2014           73.000000\n",
      "3192                                         Lebanon  2000            7.952740\n",
      "3207                                         Lesotho  2014           22.000000\n",
      "3221                                         Lesotho  2000            0.211806\n",
      "3235                                         Liberia  2014            5.410000\n",
      "3247                                         Liberia  2000            0.017703\n",
      "3255                                           Libya  2014           17.760000\n",
      "3269                                           Libya  2000            0.187043\n",
      "3279                                   Liechtenstein  2014           95.210000\n",
      "3293                                   Liechtenstein  2000           36.515200\n",
      "3303                                       Lithuania  2014           72.133500\n",
      "3317                                       Lithuania  2000            6.427070\n",
      "3332                                      Luxembourg  2014           94.670200\n",
      "3346                                      Luxembourg  2000           22.887300\n",
      "3364                                      Madagascar  2014            3.700000\n",
      "3378                                      Madagascar  2000            0.196395\n",
      "3392                                          Malawi  2014            5.830000\n",
      "3406                                          Malawi  2000            0.126781\n",
      "3419                                        Malaysia  2014           63.665400\n",
      "3433                                        Malaysia  2000           21.384700\n",
      "3451                                        Maldives  2014           49.280000\n",
      "3465                                        Maldives  2000            2.203870\n",
      "3484                                            Mali  2014            7.000000\n",
      "3498                                            Mali  2000            0.142546\n",
      "3512                                           Malta  2014           73.114100\n",
      "3526                                           Malta  2000           13.113700\n",
      "3539                                Marshall Islands  2014           16.800000\n",
      "3553                                Marshall Islands  2000            1.534270\n",
      "3571                                      Martinique  2000            7.790850\n",
      "3583                                      Mauritania  2014           11.800000\n",
      "3597                                      Mauritania  2000            0.192031\n",
      "3610                                       Mauritius  2014           44.803300\n",
      "3624                                       Mauritius  2000            7.281540\n",
      "3630                                         Mayotte  2000            1.211530\n",
      "3640                                          Mexico  2014           44.385700\n",
      "3654                                          Mexico  2000            5.081380\n",
      "3673                                      Micronesia  2014           29.650000\n",
      "3687                                      Micronesia  2000            3.734860\n",
      "3701                                         Moldova  2014           67.000000\n",
      "3715                                         Moldova  2000            1.282850\n",
      "3730                                          Monaco  2014           92.400000\n",
      "3744                                          Monaco  2000           42.184900\n",
      "3754                                        Mongolia  2014           19.942400\n",
      "3764                                        Mongolia  2000            1.255650\n",
      "3779                                      Montenegro  2014           63.886900\n",
      "3805                                         Morocco  2014           56.774600\n",
      "3819                                         Morocco  2000            0.693791\n",
      "3834                                      Mozambique  2014            6.000000\n",
      "3848                                      Mozambique  2000            0.109593\n",
      "3859                                         Myanmar  2014            7.400000\n",
      "3883                                         Namibia  2014           14.840000\n",
      "3897                                         Namibia  2000            1.644740\n",
      "3920                             Nepal (Republic of)  2014           15.440000\n",
      "3934                             Nepal (Republic of)  2000            0.204652\n",
      "3956                    Netherlands (Kingdom of the)  2014           91.666700\n",
      "3970                    Netherlands (Kingdom of the)  2000           43.984400\n",
      "3983                                   New Caledonia  2014           70.000000\n",
      "3997                                   New Caledonia  2000           13.939500\n",
      "4012                                     New Zealand  2014           84.000000\n",
      "4026                                     New Zealand  2000           47.379600\n",
      "4044                                       Nicaragua  2014           17.600000\n",
      "4058                                       Nicaragua  2000            0.980216\n",
      "4073                                           Niger  2014            1.248680\n",
      "4087                                           Niger  2000            0.036261\n",
      "4101                                         Nigeria  2014           21.000000\n",
      "4115                                         Nigeria  2000            0.064081\n",
      "4132                                            Niue  2000           26.511100\n",
      "4143                                 North Macedonia  2014           68.058500\n",
      "4157                                 North Macedonia  2000            2.485570\n",
      "4173                                          Norway  2014           96.300500\n",
      "4187                                          Norway  2000           52.000000\n",
      "4206                                            Oman  2014           70.220000\n",
      "4220                                            Oman  2000            3.520420\n",
      "4234                                        Pakistan  2014           10.000000\n",
      "4266                                          Panama  2014           44.923800\n",
      "4280                                          Panama  2000            6.554800\n",
      "4295                                Papua New Guinea  2014            6.500000\n",
      "4309                                Papua New Guinea  2000            0.835249\n",
      "4323                                        Paraguay  2014           43.007400\n",
      "4337                                        Paraguay  2000            0.747631\n",
      "4351                                            Peru  2014           40.244700\n",
      "4365                                            Peru  2000            3.076430\n",
      "4381                                     Philippines  2014           34.700000\n",
      "4395                                     Philippines  2000            1.982250\n",
      "4411                                          Poland  2014           66.598700\n",
      "4425                                          Poland  2000            7.285430\n",
      "4444                                        Portugal  2014           64.592400\n",
      "4458                                        Portugal  2000           16.430500\n",
      "4475                                     Puerto Rico  2014           76.133900\n",
      "4489                                     Puerto Rico  2000           10.474600\n",
      "4505                                           Qatar  2014           91.490000\n",
      "4519                                           Qatar  2000            4.863680\n",
      "4535                                         Réunion  2000           13.816600\n",
      "4547                                         Romania  2014           54.078300\n",
      "4561                                         Romania  2000            3.613720\n",
      "4578                              Russian Federation  2014           70.517600\n",
      "4592                              Russian Federation  2000            1.977230\n",
      "4610                                          Rwanda  2014           10.600000\n",
      "4623                                          Rwanda  2000            0.062831\n",
      "4637                           Saint Kitts and Nevis  2014           65.400000\n",
      "4651                           Saint Kitts and Nevis  2000            5.862810\n",
      "4665                                     Saint Lucia  2014           53.200000\n",
      "4679                                     Saint Lucia  2000            5.090480\n",
      "4694                Saint Vincent and the Grenadines  2014           47.400000\n",
      "4708                Saint Vincent and the Grenadines  2000            3.245040\n",
      "4723                                           Samoa  2014           21.200000\n",
      "4737                                           Samoa  2000            0.566393\n",
      "4757                                      San Marino  2000           48.799500\n",
      "4772                           Sao Tome and Principe  2014           24.410000\n",
      "4786                           Sao Tome and Principe  2000            4.638520\n",
      "4798                                    Saudi Arabia  2014           64.713700\n",
      "4812                                    Saudi Arabia  2000            2.210690\n",
      "4827                                         Senegal  2014           17.700000\n",
      "4841                                         Senegal  2000            0.403967\n",
      "4856                                          Serbia  2014           62.075100\n",
      "4875                                      Seychelles  2014           51.254700\n",
      "4888                                      Seychelles  2000            7.395630\n",
      "4902                                    Sierra Leone  2014            6.057300\n",
      "4916                                    Sierra Leone  2000            0.118254\n",
      "4933                                       Singapore  2014           79.029200\n",
      "4947                                       Singapore  2000           36.000000\n",
      "4966                                        Slovakia  2014           79.984300\n",
      "4980                                        Slovakia  2000            9.426800\n",
      "4997                                        Slovenia  2014           71.586300\n",
      "5011                                        Slovenia  2000           15.110300\n",
      "5028                                 Solomon Islands  2014            9.000000\n",
      "5042                                 Solomon Islands  2000            0.481297\n",
      "5055                                         Somalia  2014            1.630000\n",
      "5068                                         Somalia  2000            0.020000\n",
      "5083                                    South Africa  2014           49.000000\n",
      "5097                                    South Africa  2000            5.348560\n",
      "5116                                     South Sudan  2014            2.600000\n",
      "5126                                           Spain  2014           76.186700\n",
      "5140                                           Spain  2000           13.625000\n",
      "5159                                       Sri Lanka  2014           10.500000\n",
      "5167                                       Sri Lanka  2000            0.647410\n",
      "5187                                      St. Helena  2000            5.921830\n",
      "5200                              State of Palestine  2014           53.665200\n",
      "5214                              State of Palestine  2000            1.111310\n",
      "5229                                           Sudan  2000            0.025785\n",
      "5245                                        Suriname  2014           40.080000\n",
      "5259                                        Suriname  2000            2.506410\n",
      "5275                                          Sweden  2014           92.523600\n",
      "5289                                          Sweden  2000           45.687700\n",
      "5308                                     Switzerland  2014           83.617300\n",
      "5322                                     Switzerland  2000           47.100000\n",
      "5338                            Syrian Arab Republic  2014           28.090000\n",
      "5352                            Syrian Arab Republic  2000            0.181699\n",
      "5369                                      Tajikistan  2014           17.490000\n",
      "5383                                      Tajikistan  2000            0.048600\n",
      "5394                                        Tanzania  2014            7.000000\n",
      "5408                                        Tanzania  2000            0.117194\n",
      "5422                                        Thailand  2014           34.886100\n",
      "5436                                        Thailand  2000            3.689040\n",
      "5455                                     Timor-Leste  2014           17.500000\n",
      "5475                                            Togo  2014            5.700000\n",
      "5489                                            Togo  2000            0.800000\n",
      "5506                                           Tonga  2014           35.954400\n",
      "5520                                           Tonga  2000            2.434400\n",
      "5535                             Trinidad and Tobago  2014           62.400000\n",
      "5549                             Trinidad and Tobago  2000            7.721410\n",
      "5564                                         Tunisia  2014           46.160000\n",
      "5578                                         Tunisia  2000            2.750740\n",
      "5595                                         Türkiye  2014           51.037400\n",
      "5609                                         Türkiye  2000            3.761690\n",
      "5621                                    Turkmenistan  2014           12.200000\n",
      "5635                                    Turkmenistan  2000            0.133282\n",
      "5645                                          Tuvalu  2014           24.100000\n",
      "5659                                          Tuvalu  2000            5.241640\n",
      "5665                                          Uganda  2014            5.400000\n",
      "5679                                          Uganda  2000            0.163714\n",
      "5693                                         Ukraine  2014           46.236000\n",
      "5707                                         Ukraine  2000            0.716184\n",
      "5724                            United Arab Emirates  2014           90.400000\n",
      "5738                            United Arab Emirates  2000           23.625300\n",
      "5753                                  United Kingdom  2014           91.613300\n",
      "5767                                  United Kingdom  2000           26.821800\n",
      "5786                                   United States  2014           73.000000\n",
      "5800                                   United States  2000           43.079200\n",
      "5819                                         Uruguay  2014           61.462500\n",
      "5833                                         Uruguay  2000           10.539100\n",
      "5849                                      Uzbekistan  2014           35.500000\n",
      "5863                                      Uzbekistan  2000            0.484347\n",
      "5878                                         Vanuatu  2014           18.800000\n",
      "5892                                         Vanuatu  2000            2.108340\n",
      "5905                                       Venezuela  2014           57.000000\n",
      "5919                                       Venezuela  2000            3.359600\n",
      "5937                                        Viet Nam  2014           41.000000\n",
      "5951                                        Viet Nam  2000            0.254248\n",
      "5960                             Virgin Islands (US)  2014           50.070000\n",
      "5974                             Virgin Islands (US)  2000           13.815100\n",
      "5994                               Wallis and Futuna  2000            4.768070\n",
      "6003                                           Yemen  2014           22.550000\n",
      "6017                                           Yemen  2000            0.082500\n",
      "6031                                          Zambia  2014            6.500000\n",
      "6045                                          Zambia  2000            0.191072\n",
      "6061                                        Zimbabwe  2014           16.364700\n",
      "6075                                        Zimbabwe  2000            0.401434\n"
     ]
    }
   ],
   "source": [
    "decades=(2000,2014)\n",
    "internet_decades = internet_df[internet_df['Year'].isin(decades)]\n",
    "print(internet_decades.to_string())"
   ]
  },
  {
   "cell_type": "code",
   "execution_count": 45,
   "id": "00e0c260-0f6a-480d-a214-5252ac175ffd",
   "metadata": {},
   "outputs": [
    {
     "data": {
      "text/plain": [
       "<Axes: xlabel='Year', ylabel='Internet_Users_Pct'>"
      ]
     },
     "execution_count": 45,
     "metadata": {},
     "output_type": "execute_result"
    },
    {
     "data": {
      "image/png": "[encoded data removed]",
      "text/plain": [
       "<Figure size 640x480 with 1 Axes>"
      ]
     },
     "metadata": {},
     "output_type": "display_data"
    }
   ],
   "source": [
    "#Q18 Plot:\n",
    "sns.boxplot( x=internet_decades[\"Year\"], y=internet_decades[\"Internet_Users_Pct\"])"
   ]
  },
  {
   "cell_type": "code",
   "execution_count": 46,
   "id": "db27562f-d1a3-4ad9-8a0b-9716bbca2eaf",
   "metadata": {},
   "outputs": [],
   "source": [
    "#sns.displot( data=gdp_df[intuser_00to14[\"Internet_Users_Pct\"]], kde=True ) *Create a graph"
   ]
  },
  {
   "cell_type": "markdown",
   "id": "2420a6a0-8d6b-4892-b6b7-bc78a45a37a5",
   "metadata": {},
   "source": [
    "Question 19: For how many countries was the percentage of internet users below 5% in 2014?"
   ]
  },
  {
   "cell_type": "code",
   "execution_count": 48,
   "id": "f922bf67-a0b8-4a6a-b933-db5f0482e976",
   "metadata": {},
   "outputs": [
    {
     "name": "stdout",
     "output_type": "stream",
     "text": [
      "Country               10\n",
      "Year                  10\n",
      "Internet_Users_Pct    10\n",
      "dtype: int64\n"
     ]
    }
   ],
   "source": [
    "intuser_countrybelow5 = internet_df[internet_df['Internet_Users_Pct'] < 5]\n",
    "intuser_2014 = intuser_countrybelow5[intuser_countrybelow5['Year']==2014]\n",
    "print(intuser_2014.count())"
   ]
  },
  {
   "cell_type": "markdown",
   "id": "ebdbad27-9946-43b8-9bb3-a56242f4b496",
   "metadata": {},
   "source": [
    "Question 20: Merge the two DataFrames to one. Do this in a way that keeps all rows from each of the two DataFrames. Call the new DataFrame gdp_and_internet_use. Look at the first and last few rows to confirm that it merged correctly."
   ]
  },
  {
   "cell_type": "code",
   "execution_count": 55,
   "id": "a6e511ad-671f-4fc1-88da-5501e1d479d6",
   "metadata": {},
   "outputs": [
    {
     "name": "stdout",
     "output_type": "stream",
     "text": [
      "          Country  Year  GDP_Per_Capita  Internet_Users_Pct\n",
      "0     Afghanistan  2021     1517.016266                 NaN\n",
      "1     Afghanistan  2020     1968.341002                 NaN\n",
      "2     Afghanistan  2019     2079.921861                 NaN\n",
      "3     Afghanistan  2018     2060.698973                 NaN\n",
      "4     Afghanistan  2017     2096.093111                 NaN\n",
      "...           ...   ...             ...                 ...\n",
      "6078     Zimbabwe  1997             NaN            0.033080\n",
      "6079     Zimbabwe  1996             NaN            0.016790\n",
      "6080     Zimbabwe  1995             NaN            0.007684\n",
      "6081     Zimbabwe  1994             NaN            0.001739\n",
      "6082     Zimbabwe  1990             NaN            0.000000\n",
      "\n",
      "[13745 rows x 4 columns]\n"
     ]
    }
   ],
   "source": [
    "gdp_and_internet_use = pd.concat([gdp_df, internet_df])\n",
    "print(gdp_and_internet_use)"
   ]
  },
  {
   "cell_type": "markdown",
   "id": "53829ea7-8090-4f0b-b979-71ec9025cdca",
   "metadata": {},
   "source": [
    "Question 21: Find the three countries with the highest internet users percentage in 2014. Use a seaborn FacetGrid (https://seaborn.pydata.org/generated/seaborn.FacetGrid.html) to compare how the GDP per capita has changed over time for these three countries. What do you notice?\r\n"
   ]
  },
  {
   "cell_type": "code",
   "execution_count": 62,
   "id": "831ee73e-1f59-437e-9d53-dfdf19700c6d",
   "metadata": {},
   "outputs": [
    {
     "data": {
      "text/html": [
       "<div>\n",
       "<style scoped>\n",
       "    .dataframe tbody tr th:only-of-type {\n",
       "        vertical-align: middle;\n",
       "    }\n",
       "\n",
       "    .dataframe tbody tr th {\n",
       "        vertical-align: top;\n",
       "    }\n",
       "\n",
       "    .dataframe thead th {\n",
       "        text-align: right;\n",
       "    }\n",
       "</style>\n",
       "<table border=\"1\" class=\"dataframe\">\n",
       "  <thead>\n",
       "    <tr style=\"text-align: right;\">\n",
       "      <th></th>\n",
       "      <th>Country</th>\n",
       "      <th>Year</th>\n",
       "      <th>GDP_Per_Capita</th>\n",
       "      <th>Internet_Users_Pct</th>\n",
       "    </tr>\n",
       "  </thead>\n",
       "  <tbody>\n",
       "    <tr>\n",
       "      <th>1782</th>\n",
       "      <td>Eritrea</td>\n",
       "      <td>2014</td>\n",
       "      <td>NaN</td>\n",
       "      <td>0.99000</td>\n",
       "    </tr>\n",
       "    <tr>\n",
       "      <th>873</th>\n",
       "      <td>Burundi</td>\n",
       "      <td>2014</td>\n",
       "      <td>NaN</td>\n",
       "      <td>1.04239</td>\n",
       "    </tr>\n",
       "    <tr>\n",
       "      <th>4073</th>\n",
       "      <td>Niger</td>\n",
       "      <td>2014</td>\n",
       "      <td>NaN</td>\n",
       "      <td>1.24868</td>\n",
       "    </tr>\n",
       "  </tbody>\n",
       "</table>\n",
       "</div>"
      ],
      "text/plain": [
       "      Country  Year  GDP_Per_Capita  Internet_Users_Pct\n",
       "1782  Eritrea  2014             NaN             0.99000\n",
       "873   Burundi  2014             NaN             1.04239\n",
       "4073    Niger  2014             NaN             1.24868"
      ]
     },
     "execution_count": 62,
     "metadata": {},
     "output_type": "execute_result"
    }
   ],
   "source": [
    "gdpinternet_top3 = gdp_and_internet_use[gdp_and_internet_use['Year']==2014]\n",
    "gdpinternet_top3.nsmallest(3, 'Internet_Users_Pct', keep='first')"
   ]
  },
  {
   "cell_type": "markdown",
   "id": "85371b14-f463-46fe-8e08-3381647bf1e0",
   "metadata": {},
   "source": [
    "Question 22: Subset gdp_and_internet_use to just the year 2014. Save this as a new dataframe named gdp_and_internet_use_2014."
   ]
  },
  {
   "cell_type": "code",
   "execution_count": 66,
   "id": "4c4fb938-4be9-4a53-9ade-90c13a7d2aa5",
   "metadata": {},
   "outputs": [
    {
     "name": "stdout",
     "output_type": "stream",
     "text": [
      "                          Country  Year  GDP_Per_Capita  Internet_Users_Pct\n",
      "7                     Afghanistan  2014     2144.449634                 NaN\n",
      "28    Africa Eastern and Southern  2014     3642.875373                 NaN\n",
      "61     Africa Western and Central  2014     4146.994622                 NaN\n",
      "94                        Albania  2014    11586.817446                 NaN\n",
      "127                       Algeria  2014    11561.259795                 NaN\n",
      "...                           ...   ...             ...                 ...\n",
      "5937                     Viet Nam  2014             NaN             41.0000\n",
      "5960          Virgin Islands (US)  2014             NaN             50.0700\n",
      "6003                        Yemen  2014             NaN             22.5500\n",
      "6031                       Zambia  2014             NaN              6.5000\n",
      "6061                     Zimbabwe  2014             NaN             16.3647\n",
      "\n",
      "[446 rows x 4 columns]\n"
     ]
    }
   ],
   "source": [
    "gdp_and_internet_use_2014 = gdp_and_internet_use[gdp_and_internet_use['Year']==2014]\n",
    "print(gdp_and_internet_use_2014)"
   ]
  },
  {
   "cell_type": "markdown",
   "id": "521d8a7d-ef57-421c-86cb-345675216437",
   "metadata": {},
   "source": [
    "Question 23: Create a plot which compares Internet Users Percentage and GDP per Capita for the year 2014. What do you notice from this plot? If you see any unusual points, investigate them.\r\n"
   ]
  },
  {
   "cell_type": "code",
   "execution_count": 96,
   "id": "d3680f3a-6cfa-4fb7-a56a-75d5d35c8c6d",
   "metadata": {},
   "outputs": [
    {
     "ename": "ValueError",
     "evalue": "Length of list vectors must match length of `data` when both are used, but `data` has length 446 and the vector passed to `y` has length 2.",
     "output_type": "error",
     "traceback": [
      "\u001b[1;31m---------------------------------------------------------------------------\u001b[0m",
      "\u001b[1;31mValueError\u001b[0m                                Traceback (most recent call last)",
      "Cell \u001b[1;32mIn[96], line 2\u001b[0m\n\u001b[0;32m      1\u001b[0m \u001b[38;5;66;03m#sns.boxplot( x=gdp_and_internet_use_2014[\"GDP_Per_Capita\"], y=gdp_and_internet_use_2014[\"Internet_Users_Pct\"])\u001b[39;00m\n\u001b[1;32m----> 2\u001b[0m sns\u001b[38;5;241m.\u001b[39mlineplot(data\u001b[38;5;241m=\u001b[39mgdp_and_internet_use_2014, y\u001b[38;5;241m=\u001b[39m[\u001b[38;5;124m\"\u001b[39m\u001b[38;5;124mGDP_Per_Capita\u001b[39m\u001b[38;5;124m\"\u001b[39m, \u001b[38;5;124m\"\u001b[39m\u001b[38;5;124mInternet_Users_Pct\u001b[39m\u001b[38;5;124m\"\u001b[39m])\n",
      "File \u001b[1;32m~\\anaconda3\\Lib\\site-packages\\seaborn\\relational.py:485\u001b[0m, in \u001b[0;36mlineplot\u001b[1;34m(data, x, y, hue, size, style, units, weights, palette, hue_order, hue_norm, sizes, size_order, size_norm, dashes, markers, style_order, estimator, errorbar, n_boot, seed, orient, sort, err_style, err_kws, legend, ci, ax, **kwargs)\u001b[0m\n\u001b[0;32m    471\u001b[0m \u001b[38;5;28;01mdef\u001b[39;00m \u001b[38;5;21mlineplot\u001b[39m(\n\u001b[0;32m    472\u001b[0m     data\u001b[38;5;241m=\u001b[39m\u001b[38;5;28;01mNone\u001b[39;00m, \u001b[38;5;241m*\u001b[39m,\n\u001b[0;32m    473\u001b[0m     x\u001b[38;5;241m=\u001b[39m\u001b[38;5;28;01mNone\u001b[39;00m, y\u001b[38;5;241m=\u001b[39m\u001b[38;5;28;01mNone\u001b[39;00m, hue\u001b[38;5;241m=\u001b[39m\u001b[38;5;28;01mNone\u001b[39;00m, size\u001b[38;5;241m=\u001b[39m\u001b[38;5;28;01mNone\u001b[39;00m, style\u001b[38;5;241m=\u001b[39m\u001b[38;5;28;01mNone\u001b[39;00m, units\u001b[38;5;241m=\u001b[39m\u001b[38;5;28;01mNone\u001b[39;00m, weights\u001b[38;5;241m=\u001b[39m\u001b[38;5;28;01mNone\u001b[39;00m,\n\u001b[1;32m   (...)\u001b[0m\n\u001b[0;32m    481\u001b[0m \n\u001b[0;32m    482\u001b[0m     \u001b[38;5;66;03m# Handle deprecation of ci parameter\u001b[39;00m\n\u001b[0;32m    483\u001b[0m     errorbar \u001b[38;5;241m=\u001b[39m _deprecate_ci(errorbar, ci)\n\u001b[1;32m--> 485\u001b[0m     p \u001b[38;5;241m=\u001b[39m _LinePlotter(\n\u001b[0;32m    486\u001b[0m         data\u001b[38;5;241m=\u001b[39mdata,\n\u001b[0;32m    487\u001b[0m         variables\u001b[38;5;241m=\u001b[39m\u001b[38;5;28mdict\u001b[39m(\n\u001b[0;32m    488\u001b[0m             x\u001b[38;5;241m=\u001b[39mx, y\u001b[38;5;241m=\u001b[39my, hue\u001b[38;5;241m=\u001b[39mhue, size\u001b[38;5;241m=\u001b[39msize, style\u001b[38;5;241m=\u001b[39mstyle, units\u001b[38;5;241m=\u001b[39munits, weight\u001b[38;5;241m=\u001b[39mweights\n\u001b[0;32m    489\u001b[0m         ),\n\u001b[0;32m    490\u001b[0m         estimator\u001b[38;5;241m=\u001b[39mestimator, n_boot\u001b[38;5;241m=\u001b[39mn_boot, seed\u001b[38;5;241m=\u001b[39mseed, errorbar\u001b[38;5;241m=\u001b[39merrorbar,\n\u001b[0;32m    491\u001b[0m         sort\u001b[38;5;241m=\u001b[39msort, orient\u001b[38;5;241m=\u001b[39morient, err_style\u001b[38;5;241m=\u001b[39merr_style, err_kws\u001b[38;5;241m=\u001b[39merr_kws,\n\u001b[0;32m    492\u001b[0m         legend\u001b[38;5;241m=\u001b[39mlegend,\n\u001b[0;32m    493\u001b[0m     )\n\u001b[0;32m    495\u001b[0m     p\u001b[38;5;241m.\u001b[39mmap_hue(palette\u001b[38;5;241m=\u001b[39mpalette, order\u001b[38;5;241m=\u001b[39mhue_order, norm\u001b[38;5;241m=\u001b[39mhue_norm)\n\u001b[0;32m    496\u001b[0m     p\u001b[38;5;241m.\u001b[39mmap_size(sizes\u001b[38;5;241m=\u001b[39msizes, order\u001b[38;5;241m=\u001b[39msize_order, norm\u001b[38;5;241m=\u001b[39msize_norm)\n",
      "File \u001b[1;32m~\\anaconda3\\Lib\\site-packages\\seaborn\\relational.py:216\u001b[0m, in \u001b[0;36m_LinePlotter.__init__\u001b[1;34m(self, data, variables, estimator, n_boot, seed, errorbar, sort, orient, err_style, err_kws, legend)\u001b[0m\n\u001b[0;32m    202\u001b[0m \u001b[38;5;28;01mdef\u001b[39;00m \u001b[38;5;21m__init__\u001b[39m(\n\u001b[0;32m    203\u001b[0m     \u001b[38;5;28mself\u001b[39m, \u001b[38;5;241m*\u001b[39m,\n\u001b[0;32m    204\u001b[0m     data\u001b[38;5;241m=\u001b[39m\u001b[38;5;28;01mNone\u001b[39;00m, variables\u001b[38;5;241m=\u001b[39m{},\n\u001b[1;32m   (...)\u001b[0m\n\u001b[0;32m    210\u001b[0m     \u001b[38;5;66;03m# the kind of plot to draw, but for the time being we need to set\u001b[39;00m\n\u001b[0;32m    211\u001b[0m     \u001b[38;5;66;03m# this information so the SizeMapping can use it\u001b[39;00m\n\u001b[0;32m    212\u001b[0m     \u001b[38;5;28mself\u001b[39m\u001b[38;5;241m.\u001b[39m_default_size_range \u001b[38;5;241m=\u001b[39m (\n\u001b[0;32m    213\u001b[0m         np\u001b[38;5;241m.\u001b[39mr_[\u001b[38;5;241m.5\u001b[39m, \u001b[38;5;241m2\u001b[39m] \u001b[38;5;241m*\u001b[39m mpl\u001b[38;5;241m.\u001b[39mrcParams[\u001b[38;5;124m\"\u001b[39m\u001b[38;5;124mlines.linewidth\u001b[39m\u001b[38;5;124m\"\u001b[39m]\n\u001b[0;32m    214\u001b[0m     )\n\u001b[1;32m--> 216\u001b[0m     \u001b[38;5;28msuper\u001b[39m()\u001b[38;5;241m.\u001b[39m\u001b[38;5;21m__init__\u001b[39m(data\u001b[38;5;241m=\u001b[39mdata, variables\u001b[38;5;241m=\u001b[39mvariables)\n\u001b[0;32m    218\u001b[0m     \u001b[38;5;28mself\u001b[39m\u001b[38;5;241m.\u001b[39mestimator \u001b[38;5;241m=\u001b[39m estimator\n\u001b[0;32m    219\u001b[0m     \u001b[38;5;28mself\u001b[39m\u001b[38;5;241m.\u001b[39merrorbar \u001b[38;5;241m=\u001b[39m errorbar\n",
      "File \u001b[1;32m~\\anaconda3\\Lib\\site-packages\\seaborn\\_base.py:634\u001b[0m, in \u001b[0;36mVectorPlotter.__init__\u001b[1;34m(self, data, variables)\u001b[0m\n\u001b[0;32m    629\u001b[0m \u001b[38;5;66;03m# var_ordered is relevant only for categorical axis variables, and may\u001b[39;00m\n\u001b[0;32m    630\u001b[0m \u001b[38;5;66;03m# be better handled by an internal axis information object that tracks\u001b[39;00m\n\u001b[0;32m    631\u001b[0m \u001b[38;5;66;03m# such information and is set up by the scale_* methods. The analogous\u001b[39;00m\n\u001b[0;32m    632\u001b[0m \u001b[38;5;66;03m# information for numeric axes would be information about log scales.\u001b[39;00m\n\u001b[0;32m    633\u001b[0m \u001b[38;5;28mself\u001b[39m\u001b[38;5;241m.\u001b[39m_var_ordered \u001b[38;5;241m=\u001b[39m {\u001b[38;5;124m\"\u001b[39m\u001b[38;5;124mx\u001b[39m\u001b[38;5;124m\"\u001b[39m: \u001b[38;5;28;01mFalse\u001b[39;00m, \u001b[38;5;124m\"\u001b[39m\u001b[38;5;124my\u001b[39m\u001b[38;5;124m\"\u001b[39m: \u001b[38;5;28;01mFalse\u001b[39;00m}  \u001b[38;5;66;03m# alt., used DefaultDict\u001b[39;00m\n\u001b[1;32m--> 634\u001b[0m \u001b[38;5;28mself\u001b[39m\u001b[38;5;241m.\u001b[39massign_variables(data, variables)\n\u001b[0;32m    636\u001b[0m \u001b[38;5;66;03m# TODO Lots of tests assume that these are called to initialize the\u001b[39;00m\n\u001b[0;32m    637\u001b[0m \u001b[38;5;66;03m# mappings to default values on class initialization. I'd prefer to\u001b[39;00m\n\u001b[0;32m    638\u001b[0m \u001b[38;5;66;03m# move away from that and only have a mapping when explicitly called.\u001b[39;00m\n\u001b[0;32m    639\u001b[0m \u001b[38;5;28;01mfor\u001b[39;00m var \u001b[38;5;129;01min\u001b[39;00m [\u001b[38;5;124m\"\u001b[39m\u001b[38;5;124mhue\u001b[39m\u001b[38;5;124m\"\u001b[39m, \u001b[38;5;124m\"\u001b[39m\u001b[38;5;124msize\u001b[39m\u001b[38;5;124m\"\u001b[39m, \u001b[38;5;124m\"\u001b[39m\u001b[38;5;124mstyle\u001b[39m\u001b[38;5;124m\"\u001b[39m]:\n",
      "File \u001b[1;32m~\\anaconda3\\Lib\\site-packages\\seaborn\\_base.py:679\u001b[0m, in \u001b[0;36mVectorPlotter.assign_variables\u001b[1;34m(self, data, variables)\u001b[0m\n\u001b[0;32m    674\u001b[0m \u001b[38;5;28;01melse\u001b[39;00m:\n\u001b[0;32m    675\u001b[0m     \u001b[38;5;66;03m# When dealing with long-form input, use the newer PlotData\u001b[39;00m\n\u001b[0;32m    676\u001b[0m     \u001b[38;5;66;03m# object (internal but introduced for the objects interface)\u001b[39;00m\n\u001b[0;32m    677\u001b[0m     \u001b[38;5;66;03m# to centralize / standardize data consumption logic.\u001b[39;00m\n\u001b[0;32m    678\u001b[0m     \u001b[38;5;28mself\u001b[39m\u001b[38;5;241m.\u001b[39minput_format \u001b[38;5;241m=\u001b[39m \u001b[38;5;124m\"\u001b[39m\u001b[38;5;124mlong\u001b[39m\u001b[38;5;124m\"\u001b[39m\n\u001b[1;32m--> 679\u001b[0m     plot_data \u001b[38;5;241m=\u001b[39m PlotData(data, variables)\n\u001b[0;32m    680\u001b[0m     frame \u001b[38;5;241m=\u001b[39m plot_data\u001b[38;5;241m.\u001b[39mframe\n\u001b[0;32m    681\u001b[0m     names \u001b[38;5;241m=\u001b[39m plot_data\u001b[38;5;241m.\u001b[39mnames\n",
      "File \u001b[1;32m~\\anaconda3\\Lib\\site-packages\\seaborn\\_core\\data.py:58\u001b[0m, in \u001b[0;36mPlotData.__init__\u001b[1;34m(self, data, variables)\u001b[0m\n\u001b[0;32m     51\u001b[0m \u001b[38;5;28;01mdef\u001b[39;00m \u001b[38;5;21m__init__\u001b[39m(\n\u001b[0;32m     52\u001b[0m     \u001b[38;5;28mself\u001b[39m,\n\u001b[0;32m     53\u001b[0m     data: DataSource,\n\u001b[0;32m     54\u001b[0m     variables: \u001b[38;5;28mdict\u001b[39m[\u001b[38;5;28mstr\u001b[39m, VariableSpec],\n\u001b[0;32m     55\u001b[0m ):\n\u001b[0;32m     57\u001b[0m     data \u001b[38;5;241m=\u001b[39m handle_data_source(data)\n\u001b[1;32m---> 58\u001b[0m     frame, names, ids \u001b[38;5;241m=\u001b[39m \u001b[38;5;28mself\u001b[39m\u001b[38;5;241m.\u001b[39m_assign_variables(data, variables)\n\u001b[0;32m     60\u001b[0m     \u001b[38;5;28mself\u001b[39m\u001b[38;5;241m.\u001b[39mframe \u001b[38;5;241m=\u001b[39m frame\n\u001b[0;32m     61\u001b[0m     \u001b[38;5;28mself\u001b[39m\u001b[38;5;241m.\u001b[39mnames \u001b[38;5;241m=\u001b[39m names\n",
      "File \u001b[1;32m~\\anaconda3\\Lib\\site-packages\\seaborn\\_core\\data.py:251\u001b[0m, in \u001b[0;36mPlotData._assign_variables\u001b[1;34m(self, data, variables)\u001b[0m\n\u001b[0;32m    245\u001b[0m         val_cls \u001b[38;5;241m=\u001b[39m val\u001b[38;5;241m.\u001b[39m\u001b[38;5;18m__class__\u001b[39m\u001b[38;5;241m.\u001b[39m\u001b[38;5;18m__name__\u001b[39m\n\u001b[0;32m    246\u001b[0m         err \u001b[38;5;241m=\u001b[39m (\n\u001b[0;32m    247\u001b[0m             \u001b[38;5;124mf\u001b[39m\u001b[38;5;124m\"\u001b[39m\u001b[38;5;124mLength of \u001b[39m\u001b[38;5;132;01m{\u001b[39;00mval_cls\u001b[38;5;132;01m}\u001b[39;00m\u001b[38;5;124m vectors must match length of `data`\u001b[39m\u001b[38;5;124m\"\u001b[39m\n\u001b[0;32m    248\u001b[0m             \u001b[38;5;124mf\u001b[39m\u001b[38;5;124m\"\u001b[39m\u001b[38;5;124m when both are used, but `data` has length \u001b[39m\u001b[38;5;132;01m{\u001b[39;00m\u001b[38;5;28mlen\u001b[39m(data)\u001b[38;5;132;01m}\u001b[39;00m\u001b[38;5;124m\"\u001b[39m\n\u001b[0;32m    249\u001b[0m             \u001b[38;5;124mf\u001b[39m\u001b[38;5;124m\"\u001b[39m\u001b[38;5;124m and the vector passed to `\u001b[39m\u001b[38;5;132;01m{\u001b[39;00mkey\u001b[38;5;132;01m}\u001b[39;00m\u001b[38;5;124m` has length \u001b[39m\u001b[38;5;132;01m{\u001b[39;00m\u001b[38;5;28mlen\u001b[39m(val)\u001b[38;5;132;01m}\u001b[39;00m\u001b[38;5;124m.\u001b[39m\u001b[38;5;124m\"\u001b[39m\n\u001b[0;32m    250\u001b[0m         )\n\u001b[1;32m--> 251\u001b[0m         \u001b[38;5;28;01mraise\u001b[39;00m \u001b[38;5;167;01mValueError\u001b[39;00m(err)\n\u001b[0;32m    253\u001b[0m plot_data[key] \u001b[38;5;241m=\u001b[39m val\n\u001b[0;32m    255\u001b[0m \u001b[38;5;66;03m# Try to infer the original name using pandas-like metadata\u001b[39;00m\n",
      "\u001b[1;31mValueError\u001b[0m: Length of list vectors must match length of `data` when both are used, but `data` has length 446 and the vector passed to `y` has length 2."
     ]
    }
   ],
   "source": [
    "#sns.boxplot( x=gdp_and_internet_use_2014[\"GDP_Per_Capita\"], y=gdp_and_internet_use_2014[\"Internet_Users_Pct\"])\n",
    "sns.lineplot(data=gdp_and_internet_use_2014, y=[\"GDP_Per_Capita\", \"Internet_Users_Pct\"])"
   ]
  },
  {
   "cell_type": "markdown",
   "id": "4e28be82-d8a7-4468-a435-89b5800c3d80",
   "metadata": {},
   "source": [
    "Question 24: Stretch Question: Use the qcut function from pandas (https://pandas.pydata.org/docs/reference/api/pandas.qcut.html) to divide countries in gdp_per_capita_2014 into three groups based on their GDP per capita values. Label these groups as \"Low\", \"Medium\", and \"High\". Put these labels in a new column, named \"GDP_group\"."
   ]
  },
  {
   "cell_type": "code",
   "execution_count": null,
   "id": "01aa3f9e-7c24-4de8-b9b7-ff6ff6d1ef7a",
   "metadata": {},
   "outputs": [],
   "source": []
  },
  {
   "cell_type": "markdown",
   "id": "ec32a4ba-a868-4297-9f96-e347c7b126a5",
   "metadata": {},
   "source": [
    "Question 25: Stretch Question: How does the median internet users percentage compare for the three gdp groups?"
   ]
  },
  {
   "cell_type": "code",
   "execution_count": null,
   "id": "e3f3de79-1046-4092-84e6-2fcf19052ecd",
   "metadata": {},
   "outputs": [],
   "source": []
  }
 ],
 "metadata": {
  "kernelspec": {
   "display_name": "Python 3 (ipykernel)",
   "language": "python",
   "name": "python3"
  },
  "language_info": {
   "codemirror_mode": {
    "name": "ipython",
    "version": 3
   },
   "file_extension": ".py",
   "mimetype": "text/x-python",
   "name": "python",
   "nbconvert_exporter": "python",
   "pygments_lexer": "ipython3",
   "version": "3.12.4"
  }
 },
 "nbformat": 4,
 "nbformat_minor": 5
}
