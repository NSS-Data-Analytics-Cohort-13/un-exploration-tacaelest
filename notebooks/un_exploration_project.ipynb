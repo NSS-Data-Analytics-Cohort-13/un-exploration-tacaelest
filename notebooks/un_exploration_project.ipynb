{
 "cells": [
  {
   "cell_type": "code",
   "execution_count": 1,
   "id": "7e31786e-09ab-4a58-a68b-24b80f918827",
   "metadata": {},
   "outputs": [],
   "source": [
    "import pandas as pd\n",
    "import numpy as np\n",
    "import matplotlib.pyplot as plt\n",
    "import seaborn as sns"
   ]
  },
  {
   "cell_type": "code",
   "execution_count": 2,
   "id": "0a13a90a-a1e3-4769-88c5-b7ff62e94860",
   "metadata": {},
   "outputs": [
    {
     "data": {
      "text/html": [
       "<div>\n",
       "<style scoped>\n",
       "    .dataframe tbody tr th:only-of-type {\n",
       "        vertical-align: middle;\n",
       "    }\n",
       "\n",
       "    .dataframe tbody tr th {\n",
       "        vertical-align: top;\n",
       "    }\n",
       "\n",
       "    .dataframe thead th {\n",
       "        text-align: right;\n",
       "    }\n",
       "</style>\n",
       "<table border=\"1\" class=\"dataframe\">\n",
       "  <thead>\n",
       "    <tr style=\"text-align: right;\">\n",
       "      <th></th>\n",
       "      <th>Country or Area</th>\n",
       "      <th>Year</th>\n",
       "      <th>Value</th>\n",
       "      <th>Value Footnotes</th>\n",
       "    </tr>\n",
       "  </thead>\n",
       "  <tbody>\n",
       "    <tr>\n",
       "      <th>0</th>\n",
       "      <td>Afghanistan</td>\n",
       "      <td>2021</td>\n",
       "      <td>1517.016266</td>\n",
       "      <td>NaN</td>\n",
       "    </tr>\n",
       "    <tr>\n",
       "      <th>1</th>\n",
       "      <td>Afghanistan</td>\n",
       "      <td>2020</td>\n",
       "      <td>1968.341002</td>\n",
       "      <td>NaN</td>\n",
       "    </tr>\n",
       "    <tr>\n",
       "      <th>2</th>\n",
       "      <td>Afghanistan</td>\n",
       "      <td>2019</td>\n",
       "      <td>2079.921861</td>\n",
       "      <td>NaN</td>\n",
       "    </tr>\n",
       "    <tr>\n",
       "      <th>3</th>\n",
       "      <td>Afghanistan</td>\n",
       "      <td>2018</td>\n",
       "      <td>2060.698973</td>\n",
       "      <td>NaN</td>\n",
       "    </tr>\n",
       "    <tr>\n",
       "      <th>4</th>\n",
       "      <td>Afghanistan</td>\n",
       "      <td>2017</td>\n",
       "      <td>2096.093111</td>\n",
       "      <td>NaN</td>\n",
       "    </tr>\n",
       "    <tr>\n",
       "      <th>...</th>\n",
       "      <td>...</td>\n",
       "      <td>...</td>\n",
       "      <td>...</td>\n",
       "      <td>...</td>\n",
       "    </tr>\n",
       "    <tr>\n",
       "      <th>7657</th>\n",
       "      <td>Zimbabwe</td>\n",
       "      <td>1994</td>\n",
       "      <td>2670.106615</td>\n",
       "      <td>NaN</td>\n",
       "    </tr>\n",
       "    <tr>\n",
       "      <th>7658</th>\n",
       "      <td>Zimbabwe</td>\n",
       "      <td>1993</td>\n",
       "      <td>2458.783255</td>\n",
       "      <td>NaN</td>\n",
       "    </tr>\n",
       "    <tr>\n",
       "      <th>7659</th>\n",
       "      <td>Zimbabwe</td>\n",
       "      <td>1992</td>\n",
       "      <td>2468.278257</td>\n",
       "      <td>NaN</td>\n",
       "    </tr>\n",
       "    <tr>\n",
       "      <th>7660</th>\n",
       "      <td>Zimbabwe</td>\n",
       "      <td>1991</td>\n",
       "      <td>2781.787843</td>\n",
       "      <td>NaN</td>\n",
       "    </tr>\n",
       "    <tr>\n",
       "      <th>7661</th>\n",
       "      <td>Zimbabwe</td>\n",
       "      <td>1990</td>\n",
       "      <td>2704.757299</td>\n",
       "      <td>NaN</td>\n",
       "    </tr>\n",
       "  </tbody>\n",
       "</table>\n",
       "<p>7662 rows × 4 columns</p>\n",
       "</div>"
      ],
      "text/plain": [
       "     Country or Area  Year        Value  Value Footnotes\n",
       "0        Afghanistan  2021  1517.016266              NaN\n",
       "1        Afghanistan  2020  1968.341002              NaN\n",
       "2        Afghanistan  2019  2079.921861              NaN\n",
       "3        Afghanistan  2018  2060.698973              NaN\n",
       "4        Afghanistan  2017  2096.093111              NaN\n",
       "...              ...   ...          ...              ...\n",
       "7657        Zimbabwe  1994  2670.106615              NaN\n",
       "7658        Zimbabwe  1993  2458.783255              NaN\n",
       "7659        Zimbabwe  1992  2468.278257              NaN\n",
       "7660        Zimbabwe  1991  2781.787843              NaN\n",
       "7661        Zimbabwe  1990  2704.757299              NaN\n",
       "\n",
       "[7662 rows x 4 columns]"
      ]
     },
     "execution_count": 2,
     "metadata": {},
     "output_type": "execute_result"
    }
   ],
   "source": [
    "pd.read_csv('../data/gdp_percapita.csv.csv')"
   ]
  },
  {
   "cell_type": "code",
   "execution_count": 3,
   "id": "f7ee3edd-ecd6-444c-a0dc-9e48420c184e",
   "metadata": {},
   "outputs": [],
   "source": [
    "gdp_df = pd.read_csv('../data/gdp_percapita.csv.csv')"
   ]
  },
  {
   "cell_type": "code",
   "execution_count": 4,
   "id": "9b841b85-7286-481c-9b30-42c61a388c26",
   "metadata": {},
   "outputs": [
    {
     "data": {
      "text/html": [
       "<div>\n",
       "<style scoped>\n",
       "    .dataframe tbody tr th:only-of-type {\n",
       "        vertical-align: middle;\n",
       "    }\n",
       "\n",
       "    .dataframe tbody tr th {\n",
       "        vertical-align: top;\n",
       "    }\n",
       "\n",
       "    .dataframe thead th {\n",
       "        text-align: right;\n",
       "    }\n",
       "</style>\n",
       "<table border=\"1\" class=\"dataframe\">\n",
       "  <thead>\n",
       "    <tr style=\"text-align: right;\">\n",
       "      <th></th>\n",
       "      <th>Country or Area</th>\n",
       "      <th>Year</th>\n",
       "      <th>Value</th>\n",
       "      <th>Value Footnotes</th>\n",
       "    </tr>\n",
       "  </thead>\n",
       "  <tbody>\n",
       "    <tr>\n",
       "      <th>7652</th>\n",
       "      <td>Zimbabwe</td>\n",
       "      <td>1999</td>\n",
       "      <td>2866.032886</td>\n",
       "      <td>NaN</td>\n",
       "    </tr>\n",
       "    <tr>\n",
       "      <th>7653</th>\n",
       "      <td>Zimbabwe</td>\n",
       "      <td>1998</td>\n",
       "      <td>2931.725144</td>\n",
       "      <td>NaN</td>\n",
       "    </tr>\n",
       "    <tr>\n",
       "      <th>7654</th>\n",
       "      <td>Zimbabwe</td>\n",
       "      <td>1997</td>\n",
       "      <td>2896.147308</td>\n",
       "      <td>NaN</td>\n",
       "    </tr>\n",
       "    <tr>\n",
       "      <th>7655</th>\n",
       "      <td>Zimbabwe</td>\n",
       "      <td>1996</td>\n",
       "      <td>2867.026043</td>\n",
       "      <td>NaN</td>\n",
       "    </tr>\n",
       "    <tr>\n",
       "      <th>7656</th>\n",
       "      <td>Zimbabwe</td>\n",
       "      <td>1995</td>\n",
       "      <td>2641.378271</td>\n",
       "      <td>NaN</td>\n",
       "    </tr>\n",
       "    <tr>\n",
       "      <th>7657</th>\n",
       "      <td>Zimbabwe</td>\n",
       "      <td>1994</td>\n",
       "      <td>2670.106615</td>\n",
       "      <td>NaN</td>\n",
       "    </tr>\n",
       "    <tr>\n",
       "      <th>7658</th>\n",
       "      <td>Zimbabwe</td>\n",
       "      <td>1993</td>\n",
       "      <td>2458.783255</td>\n",
       "      <td>NaN</td>\n",
       "    </tr>\n",
       "    <tr>\n",
       "      <th>7659</th>\n",
       "      <td>Zimbabwe</td>\n",
       "      <td>1992</td>\n",
       "      <td>2468.278257</td>\n",
       "      <td>NaN</td>\n",
       "    </tr>\n",
       "    <tr>\n",
       "      <th>7660</th>\n",
       "      <td>Zimbabwe</td>\n",
       "      <td>1991</td>\n",
       "      <td>2781.787843</td>\n",
       "      <td>NaN</td>\n",
       "    </tr>\n",
       "    <tr>\n",
       "      <th>7661</th>\n",
       "      <td>Zimbabwe</td>\n",
       "      <td>1990</td>\n",
       "      <td>2704.757299</td>\n",
       "      <td>NaN</td>\n",
       "    </tr>\n",
       "  </tbody>\n",
       "</table>\n",
       "</div>"
      ],
      "text/plain": [
       "     Country or Area  Year        Value  Value Footnotes\n",
       "7652        Zimbabwe  1999  2866.032886              NaN\n",
       "7653        Zimbabwe  1998  2931.725144              NaN\n",
       "7654        Zimbabwe  1997  2896.147308              NaN\n",
       "7655        Zimbabwe  1996  2867.026043              NaN\n",
       "7656        Zimbabwe  1995  2641.378271              NaN\n",
       "7657        Zimbabwe  1994  2670.106615              NaN\n",
       "7658        Zimbabwe  1993  2458.783255              NaN\n",
       "7659        Zimbabwe  1992  2468.278257              NaN\n",
       "7660        Zimbabwe  1991  2781.787843              NaN\n",
       "7661        Zimbabwe  1990  2704.757299              NaN"
      ]
     },
     "execution_count": 4,
     "metadata": {},
     "output_type": "execute_result"
    }
   ],
   "source": [
    "gdp_df.tail(10)"
   ]
  },
  {
   "cell_type": "code",
   "execution_count": 5,
   "id": "1a42a1e4-8fe6-4e3e-850d-3bb0f8264759",
   "metadata": {},
   "outputs": [
    {
     "name": "stdout",
     "output_type": "stream",
     "text": [
      "(7662, 4)\n",
      "<class 'pandas.core.frame.DataFrame'>\n",
      "RangeIndex: 7662 entries, 0 to 7661\n",
      "Data columns (total 4 columns):\n",
      " #   Column           Non-Null Count  Dtype  \n",
      "---  ------           --------------  -----  \n",
      " 0   Country or Area  7662 non-null   object \n",
      " 1   Year             7662 non-null   int64  \n",
      " 2   Value            7662 non-null   float64\n",
      " 3   Value Footnotes  0 non-null      float64\n",
      "dtypes: float64(2), int64(1), object(1)\n",
      "memory usage: 239.6+ KB\n"
     ]
    }
   ],
   "source": [
    "#Question 5 How many rows and columns are in gdp_df? What are the data types of each column?\n",
    "print(gdp_df.shape)\n",
    "gdp_df.info()"
   ]
  },
  {
   "cell_type": "code",
   "execution_count": 6,
   "id": "dc841454-14b7-43ef-8bc6-f05e15da71ad",
   "metadata": {},
   "outputs": [],
   "source": [
    "#Question 6 : Drop the Value Footnotes column and rename the remaining three to 'Country', 'Year', and 'GDP_Per_Capita'\n",
    "gdp_df.rename(columns={'Country or Area':'Country','Value':'GDP_Per_Capita'},inplace=True)\n",
    "gdp_df.drop(columns=['Value Footnotes'],inplace=True)"
   ]
  },
  {
   "cell_type": "code",
   "execution_count": 7,
   "id": "5fdde744-e304-492e-b345-da59f483aba1",
   "metadata": {},
   "outputs": [
    {
     "name": "stdout",
     "output_type": "stream",
     "text": [
      "          Country  Year  GDP_Per_Capita\n",
      "0     Afghanistan  2021     1517.016266\n",
      "1     Afghanistan  2020     1968.341002\n",
      "2     Afghanistan  2019     2079.921861\n",
      "3     Afghanistan  2018     2060.698973\n",
      "4     Afghanistan  2017     2096.093111\n",
      "...           ...   ...             ...\n",
      "7657     Zimbabwe  1994     2670.106615\n",
      "7658     Zimbabwe  1993     2458.783255\n",
      "7659     Zimbabwe  1992     2468.278257\n",
      "7660     Zimbabwe  1991     2781.787843\n",
      "7661     Zimbabwe  1990     2704.757299\n",
      "\n",
      "[7662 rows x 3 columns]\n"
     ]
    }
   ],
   "source": [
    "print(gdp_df)"
   ]
  },
  {
   "cell_type": "code",
   "execution_count": 8,
   "id": "824c1116-a14f-493b-b03c-9084de1d1ca6",
   "metadata": {},
   "outputs": [
    {
     "name": "stdout",
     "output_type": "stream",
     "text": [
      "Country\n",
      "Djibouti                                              10\n",
      "Somalia                                               10\n",
      "Turks and Caicos Islands                              12\n",
      "Sint Maarten (Dutch part)                             14\n",
      "Kosovo                                                15\n",
      "Cayman Islands                                        16\n",
      "Nauru                                                 19\n",
      "Afghanistan                                           20\n",
      "CuraÃ§ao                                              22\n",
      "Palau                                                 22\n",
      "SÃ£o TomÃ© and Principe                               22\n",
      "Qatar                                                 23\n",
      "Other small states                                    23\n",
      "Timor-Leste                                           23\n",
      "Liberia                                               23\n",
      "Libya                                                 24\n",
      "San Marino                                            25\n",
      "Small states                                          26\n",
      "Montenegro                                            26\n",
      "Maldives                                              28\n",
      "Moldova                                               28\n",
      "Israel                                                28\n",
      "Iceland                                               28\n",
      "Estonia                                               28\n",
      "Croatia                                               28\n",
      "Serbia                                                28\n",
      "Slovenia                                              28\n",
      "Lithuania                                             28\n",
      "Latvia                                                28\n",
      "West Bank and Gaza                                    29\n",
      "Bosnia and Herzegovina                                29\n",
      "Cambodia                                              30\n",
      "Kuwait                                                31\n",
      "Slovak Republic                                       31\n",
      "Turkmenistan                                          31\n",
      "Lebanon                                               32\n",
      "Tonga                                                 32\n",
      "Hungary                                               32\n",
      "Aruba                                                 32\n",
      "Bhutan                                                32\n",
      "Papua New Guinea                                      33\n",
      "Pakistan                                              33\n",
      "Australia                                             33\n",
      "Pacific island small states                           33\n",
      "Austria                                               33\n",
      "Oman                                                  33\n",
      "Panama                                                33\n",
      "Paraguay                                              33\n",
      "Philippines                                           33\n",
      "OECD members                                          33\n",
      "Poland                                                33\n",
      "Portugal                                              33\n",
      "Post-demographic dividend                             33\n",
      "Pre-demographic dividend                              33\n",
      "Puerto Rico                                           33\n",
      "Romania                                               33\n",
      "Russia                                                33\n",
      "Rwanda                                                33\n",
      "Peru                                                  33\n",
      "Norway                                                33\n",
      "Burkina Faso                                          33\n",
      "North America                                         33\n",
      "Mauritius                                             33\n",
      "Mexico                                                33\n",
      "Micronesia                                            33\n",
      "Middle East & North Africa                            33\n",
      "Middle East & North Africa (IDA & IBRD)               33\n",
      "Middle East & North Africa (excluding high income)    33\n",
      "Middle income                                         33\n",
      "Bangladesh                                            33\n",
      "Mongolia                                              33\n",
      "Bahrain                                               33\n",
      "North Macedonia                                       33\n",
      "Morocco                                               33\n",
      "Myanmar                                               33\n",
      "Namibia                                               33\n",
      "Azerbaijan                                            33\n",
      "Nepal                                                 33\n",
      "Netherlands                                           33\n",
      "New Zealand                                           33\n",
      "Nicaragua                                             33\n",
      "Niger                                                 33\n",
      "Nigeria                                               33\n",
      "Samoa                                                 33\n",
      "Mozambique                                            33\n",
      "Armenia                                               33\n",
      "Argentina                                             33\n",
      "Senegal                                               33\n",
      "Tanzania                                              33\n",
      "Thailand                                              33\n",
      "The Bahamas                                           33\n",
      "The Gambia                                            33\n",
      "Africa Western and Central                            33\n",
      "Togo                                                  33\n",
      "Trinidad and Tobago                                   33\n",
      "Tunisia                                               33\n",
      "Africa Eastern and Southern                           33\n",
      "Tuvalu                                                33\n",
      "Tajikistan                                            33\n",
      "TÃ¼rkiye                                              33\n",
      "Ukraine                                               33\n",
      "United Arab Emirates                                  33\n",
      "United Kingdom                                        33\n",
      "United States                                         33\n",
      "Upper middle income                                   33\n",
      "Uruguay                                               33\n",
      "Uzbekistan                                            33\n",
      "Vanuatu                                               33\n",
      "Viet Nam                                              33\n",
      "World                                                 33\n",
      "Uganda                                                33\n",
      "Saudi Arabia                                          33\n",
      "Albania                                               33\n",
      "Sweden                                                33\n",
      "Mauritania                                            33\n",
      "Seychelles                                            33\n",
      "Sierra Leone                                          33\n",
      "Singapore                                             33\n",
      "Arab World                                            33\n",
      "Antigua and Barbuda                                   33\n",
      "Angola                                                33\n",
      "Solomon Islands                                       33\n",
      "Algeria                                               33\n",
      "South Africa                                          33\n",
      "Switzerland                                           33\n",
      "South Asia                                            33\n",
      "Spain                                                 33\n",
      "Sri Lanka                                             33\n",
      "St. Kitts and Nevis                                   33\n",
      "St. Lucia                                             33\n",
      "St. Vincent and the Grenadines                        33\n",
      "Sub-Saharan Africa                                    33\n",
      "Sub-Saharan Africa (IDA & IBRD)                       33\n",
      "Sub-Saharan Africa (excluding high income)            33\n",
      "Sudan                                                 33\n",
      "Suriname                                              33\n",
      "South Asia (IDA & IBRD)                               33\n",
      "Marshall Islands                                      33\n",
      "Barbados                                              33\n",
      "Mali                                                  33\n",
      "East Asia & Pacific (IDA & IBRD)                      33\n",
      "East Asia & Pacific (excluding high income)           33\n",
      "Ecuador                                               33\n",
      "Egypt                                                 33\n",
      "El Salvador                                           33\n",
      "Equatorial Guinea                                     33\n",
      "Bolivia                                               33\n",
      "Eswatini                                              33\n",
      "Ethiopia                                              33\n",
      "Euro area                                             33\n",
      "East Asia & Pacific                                   33\n",
      "Europe & Central Asia                                 33\n",
      "Europe & Central Asia (excluding high income)         33\n",
      "European Union                                        33\n",
      "Fiji                                                  33\n",
      "Finland                                               33\n",
      "Fragile and conflict affected situations              33\n",
      "France                                                33\n",
      "Gabon                                                 33\n",
      "Georgia                                               33\n",
      "Germany                                               33\n",
      "Ghana                                                 33\n",
      "Europe & Central Asia (IDA & IBRD)                    33\n",
      "Greece                                                33\n",
      "Early-demographic dividend                            33\n",
      "Dominica                                              33\n",
      "Burundi                                               33\n",
      "Cabo Verde                                            33\n",
      "Cameroon                                              33\n",
      "Canada                                                33\n",
      "Caribbean small states                                33\n",
      "Brunei                                                33\n",
      "Central African Republic                              33\n",
      "Central Europe and the Baltics                        33\n",
      "Chad                                                  33\n",
      "Chile                                                 33\n",
      "Dominican Republic                                    33\n",
      "China                                                 33\n",
      "Comoros                                               33\n",
      "Congo                                                 33\n",
      "Costa Rica                                            33\n",
      "Brazil                                                33\n",
      "Botswana                                              33\n",
      "Cyprus                                                33\n",
      "Czechia                                               33\n",
      "CÃ´te d'Ivoire                                        33\n",
      "Dem. Rep. Congo                                       33\n",
      "Denmark                                               33\n",
      "Colombia                                              33\n",
      "Malta                                                 33\n",
      "Grenada                                               33\n",
      "Guinea                                                33\n",
      "Benin                                                 33\n",
      "Kyrgyz Republic                                       33\n",
      "Lao PDR                                               33\n",
      "Late-demographic dividend                             33\n",
      "Latin America & Caribbean                             33\n",
      "Latin America & Caribbean (IDA & IBRD)                33\n",
      "Latin America & Caribbean (excluding high income)     33\n",
      "Zambia                                                33\n",
      "Least developed countries: UN classification          33\n",
      "Lesotho                                               33\n",
      "Korea                                                 33\n",
      "Belize                                                33\n",
      "Belarus                                               33\n",
      "Low & middle income                                   33\n",
      "Low income                                            33\n",
      "Lower middle income                                   33\n",
      "Luxembourg                                            33\n",
      "Macao SAR, China                                      33\n",
      "Madagascar                                            33\n",
      "Malawi                                                33\n",
      "Malaysia                                              33\n",
      "Bulgaria                                              33\n",
      "Belgium                                               33\n",
      "Guatemala                                             33\n",
      "Kiribati                                              33\n",
      "Kazakhstan                                            33\n",
      "Guinea-Bissau                                         33\n",
      "Guyana                                                33\n",
      "Haiti                                                 33\n",
      "Heavily indebted poor countries (HIPC)                33\n",
      "High income                                           33\n",
      "Honduras                                              33\n",
      "Hong Kong SAR, China                                  33\n",
      "IBRD only                                             33\n",
      "IDA & IBRD total                                      33\n",
      "IDA blend                                             33\n",
      "Kenya                                                 33\n",
      "IDA only                                              33\n",
      "India                                                 33\n",
      "Indonesia                                             33\n",
      "Iran                                                  33\n",
      "Iraq                                                  33\n",
      "Ireland                                               33\n",
      "Bermuda                                               33\n",
      "Italy                                                 33\n",
      "Jamaica                                               33\n",
      "Japan                                                 33\n",
      "Jordan                                                33\n",
      "IDA total                                             33\n",
      "Zimbabwe                                              33\n"
     ]
    }
   ],
   "source": [
    "#Question 7 : How many countries have data for all years? Which countries are missing many years of data?\n",
    "#Look at the number of observations per year. What do you notice?\n",
    "gdp_countries = gdp_df.groupby('Country')\n",
    "gdp_count = gdp_countries['Year'].count().sort_values()\n",
    "print(gdp_count.to_string())"
   ]
  },
  {
   "cell_type": "code",
   "execution_count": 9,
   "id": "f979ad9b-7eb5-4ede-8f05-c7f4966d6167",
   "metadata": {},
   "outputs": [
    {
     "name": "stdout",
     "output_type": "stream",
     "text": [
      "Year\n",
      "1990    207\n",
      "1991    208\n",
      "1992    210\n",
      "1993    211\n",
      "1994    213\n",
      "1995    223\n",
      "1996    223\n",
      "1997    226\n",
      "1998    226\n",
      "1999    227\n",
      "2022    232\n",
      "2000    233\n",
      "2001    234\n",
      "2002    235\n",
      "2003    235\n",
      "2004    236\n",
      "2005    236\n",
      "2006    237\n",
      "2007    237\n",
      "2008    238\n",
      "2009    239\n",
      "2010    239\n",
      "2012    240\n",
      "2011    240\n",
      "2021    241\n",
      "2013    242\n",
      "2014    242\n",
      "2015    242\n",
      "2016    242\n",
      "2017    242\n",
      "2018    242\n",
      "2019    242\n",
      "2020    242\n"
     ]
    }
   ],
   "source": [
    "gdp_year = gdp_df.groupby('Year')\n",
    "gdp_count2 = gdp_year['Country'].count().sort_values()\n",
    "print(gdp_count2.to_string())"
   ]
  },
  {
   "cell_type": "markdown",
   "id": "643ab6e3-c4f7-4007-8272-aac3a19724a8",
   "metadata": {},
   "source": [
    "Q7 Observation : As the number goes up for the count of country by year the number only\n",
    "goes up. Meaning once the country is in the dataset it stays but any missing data is from before it was entered."
   ]
  },
  {
   "cell_type": "markdown",
   "id": "802159e2-1815-488e-8ed1-457f486adfad",
   "metadata": {},
   "source": [
    "Question 8: Show GDP per capita for the year 2020. Create a histogram, a density plot, a boxplot, and a violin plot"
   ]
  },
  {
   "cell_type": "code",
   "execution_count": 12,
   "id": "da186f9e-76a3-4d7c-ade5-31d3239c9cac",
   "metadata": {},
   "outputs": [
    {
     "name": "stdout",
     "output_type": "stream",
     "text": [
      "                          Country  Year  GDP_Per_Capita\n",
      "1                     Afghanistan  2020     1968.341002\n",
      "22    Africa Eastern and Southern  2020     3455.023119\n",
      "55     Africa Western and Central  2020     3957.933804\n",
      "88                        Albania  2020    13278.369769\n",
      "121                       Algeria  2020    10844.770764\n",
      "...                           ...   ...             ...\n",
      "7503                     Viet Nam  2020    10450.622382\n",
      "7536           West Bank and Gaza  2020     5402.538773\n",
      "7565                        World  2020    16204.169107\n",
      "7598                       Zambia  2020     3183.650773\n",
      "7631                     Zimbabwe  2020     1990.319419\n",
      "\n",
      "[242 rows x 3 columns]\n"
     ]
    }
   ],
   "source": [
    "gdp_capita2020 = gdp_df[gdp_df['Year']==2020]\n",
    "print(gdp_capita2020)"
   ]
  },
  {
   "cell_type": "code",
   "execution_count": 13,
   "id": "6a0d9859-8e57-4f15-aeb9-d1a28d917474",
   "metadata": {},
   "outputs": [
    {
     "data": {
      "text/plain": [
       "<seaborn.axisgrid.FacetGrid at 0x2b5ae497890>"
      ]
     },
     "execution_count": 13,
     "metadata": {},
     "output_type": "execute_result"
    },
    {
     "data": {
      "image/png": "[encoded data removed]",
      "text/plain": [
       "<Figure size 500x500 with 1 Axes>"
      ]
     },
     "metadata": {},
     "output_type": "display_data"
    }
   ],
   "source": [
    "#Q8 Histogram\n",
    "sns.displot( data=gdp_capita2020[\"GDP_Per_Capita\"], kde=True )"
   ]
  },
  {
   "cell_type": "code",
   "execution_count": 14,
   "id": "795927e5-a6cb-468c-b170-d45c471fb09b",
   "metadata": {},
   "outputs": [
    {
     "data": {
      "text/plain": [
       "<Axes: xlabel='GDP_Per_Capita', ylabel='Density'>"
      ]
     },
     "execution_count": 14,
     "metadata": {},
     "output_type": "execute_result"
    },
    {
     "data": {
      "image/png": "[encoded data removed]",
      "text/plain": [
       "<Figure size 640x480 with 1 Axes>"
      ]
     },
     "metadata": {},
     "output_type": "display_data"
    }
   ],
   "source": [
    "#Q8 Density Plot:\n",
    "sns.kdeplot(gdp_capita2020['GDP_Per_Capita'])"
   ]
  },
  {
   "cell_type": "code",
   "execution_count": 15,
   "id": "3592eec9-5360-4208-9b6e-916a17236fdb",
   "metadata": {},
   "outputs": [
    {
     "data": {
      "text/plain": [
       "<Axes: xlabel='GDP_Per_Capita', ylabel='Year'>"
      ]
     },
     "execution_count": 15,
     "metadata": {},
     "output_type": "execute_result"
    },
    {
     "data": {
      "image/png": "[encoded data removed]",
      "text/plain": [
       "<Figure size 640x480 with 1 Axes>"
      ]
     },
     "metadata": {},
     "output_type": "display_data"
    }
   ],
   "source": [
    "#Q8 Boxplot:\n",
    "sns.boxplot( x=gdp_capita2020[\"GDP_Per_Capita\"], y=gdp_capita2020[\"Year\"])"
   ]
  },
  {
   "cell_type": "code",
   "execution_count": 16,
   "id": "e1439a02-59b1-4b68-8557-4a584440c60f",
   "metadata": {},
   "outputs": [
    {
     "ename": "NameError",
     "evalue": "name 'gd_capita2020' is not defined",
     "output_type": "error",
     "traceback": [
      "\u001b[1;31m---------------------------------------------------------------------------\u001b[0m",
      "\u001b[1;31mNameError\u001b[0m                                 Traceback (most recent call last)",
      "Cell \u001b[1;32mIn[16], line 2\u001b[0m\n\u001b[0;32m      1\u001b[0m \u001b[38;5;66;03m#Q8 Violin Plot:\u001b[39;00m\n\u001b[1;32m----> 2\u001b[0m sns\u001b[38;5;241m.\u001b[39mviolinplot(x\u001b[38;5;241m=\u001b[39mgd_capita2020[\u001b[38;5;124m\"\u001b[39m\u001b[38;5;124mYear\u001b[39m\u001b[38;5;124m\"\u001b[39m], y\u001b[38;5;241m=\u001b[39mdf[\u001b[38;5;124m\"\u001b[39m\u001b[38;5;124mGDP_Per_Capita\u001b[39m\u001b[38;5;124m\"\u001b[39m])\n",
      "\u001b[1;31mNameError\u001b[0m: name 'gd_capita2020' is not defined"
     ]
    }
   ],
   "source": [
    "#Q8 Violin Plot:\n",
    "sns.violinplot(x=gd_capita2020[\"Year\"], y=df[\"GDP_Per_Capita\"])"
   ]
  },
  {
   "cell_type": "markdown",
   "id": "1cba4140-a2d0-4a6a-9dd2-e3a22db3b0c2",
   "metadata": {},
   "source": [
    "Question 9: What was the median GDP per capita value in 2020?"
   ]
  },
  {
   "cell_type": "code",
   "execution_count": 19,
   "id": "877c08c8-1f23-4832-9ac5-d4e319ee1de8",
   "metadata": {},
   "outputs": [
    {
     "data": {
      "text/plain": [
       "13357.997573370474"
      ]
     },
     "execution_count": 19,
     "metadata": {},
     "output_type": "execute_result"
    }
   ],
   "source": [
    "gdp_capita2020['GDP_Per_Capita'].median()"
   ]
  },
  {
   "cell_type": "markdown",
   "id": "772494b3-0fb7-47b1-9918-cb99cd2fe677",
   "metadata": {},
   "source": [
    "Question 10: For this question, you're going to create some visualizations to compare GDP per capita values for the years\n",
    "1990, 2000, 2010, and 2020. Start by subsetting your data to just these 4 years into a new DataFrame named gdp_decades.\n",
    "Using this, create the following 4 plots:\n",
    "A boxplot\r\n",
    "A barplot (check out the Barplot with Seaborn sectio)\r\n",
    "A scatterplot\r\n",
    "A scatterplot with a trend line overlrn)"
   ]
  },
  {
   "cell_type": "code",
   "execution_count": 21,
   "id": "96df04d7-d0b6-49ef-93b4-420a5d63444a",
   "metadata": {},
   "outputs": [],
   "source": [
    "decades=(1990,2000,2010,2020)\n",
    "gdp_decades = gdp_df[gdp_df['Year'].isin(decades)]"
   ]
  },
  {
   "cell_type": "markdown",
   "id": "ce26eaa3-2720-473c-8c89-dda22bc3c594",
   "metadata": {},
   "source": [
    "Add plots here"
   ]
  },
  {
   "cell_type": "markdown",
   "id": "e5e4171c-02af-46de-ad85-272bc281de83",
   "metadata": {},
   "source": [
    "Question 11: Which country was the first to have a GDP per capita greater than $100,000?"
   ]
  },
  {
   "cell_type": "code",
   "execution_count": 23,
   "id": "6d6087d9-2dd6-4e4c-ae64-8b0f11607ead",
   "metadata": {},
   "outputs": [
    {
     "data": {
      "text/html": [
       "<div>\n",
       "<style scoped>\n",
       "    .dataframe tbody tr th:only-of-type {\n",
       "        vertical-align: middle;\n",
       "    }\n",
       "\n",
       "    .dataframe tbody tr th {\n",
       "        vertical-align: top;\n",
       "    }\n",
       "\n",
       "    .dataframe thead th {\n",
       "        text-align: right;\n",
       "    }\n",
       "</style>\n",
       "<table border=\"1\" class=\"dataframe\">\n",
       "  <thead>\n",
       "    <tr style=\"text-align: right;\">\n",
       "      <th></th>\n",
       "      <th>Country</th>\n",
       "      <th>Year</th>\n",
       "      <th>GDP_Per_Capita</th>\n",
       "    </tr>\n",
       "  </thead>\n",
       "  <tbody>\n",
       "    <tr>\n",
       "      <th>7302</th>\n",
       "      <td>United Arab Emirates</td>\n",
       "      <td>1990</td>\n",
       "      <td>105893.626059</td>\n",
       "    </tr>\n",
       "  </tbody>\n",
       "</table>\n",
       "</div>"
      ],
      "text/plain": [
       "                   Country  Year  GDP_Per_Capita\n",
       "7302  United Arab Emirates  1990   105893.626059"
      ]
     },
     "execution_count": 23,
     "metadata": {},
     "output_type": "execute_result"
    }
   ],
   "source": [
    "gdp_first100k = gdp_df[gdp_df['GDP_Per_Capita']>100000]\n",
    "gdp_first100k.nsmallest(1, 'Year', keep='first')"
   ]
  },
  {
   "cell_type": "markdown",
   "id": "dcce6362-eae8-4268-a9cb-0030c935715b",
   "metadata": {},
   "source": [
    "Question 12: Which country had the highest GDP per capita in 2020? Create a plot showing how this country's\n",
    "GDP per capita has changed over the timespan of the dataset."
   ]
  },
  {
   "cell_type": "code",
   "execution_count": 25,
   "id": "6f61912e-4e4a-414f-88c7-99eac687b37b",
   "metadata": {},
   "outputs": [
    {
     "data": {
      "text/html": [
       "<div>\n",
       "<style scoped>\n",
       "    .dataframe tbody tr th:only-of-type {\n",
       "        vertical-align: middle;\n",
       "    }\n",
       "\n",
       "    .dataframe tbody tr th {\n",
       "        vertical-align: top;\n",
       "    }\n",
       "\n",
       "    .dataframe thead th {\n",
       "        text-align: right;\n",
       "    }\n",
       "</style>\n",
       "<table border=\"1\" class=\"dataframe\">\n",
       "  <thead>\n",
       "    <tr style=\"text-align: right;\">\n",
       "      <th></th>\n",
       "      <th>Country</th>\n",
       "      <th>Year</th>\n",
       "      <th>GDP_Per_Capita</th>\n",
       "    </tr>\n",
       "  </thead>\n",
       "  <tbody>\n",
       "    <tr>\n",
       "      <th>4148</th>\n",
       "      <td>Luxembourg</td>\n",
       "      <td>2020</td>\n",
       "      <td>111751.314751</td>\n",
       "    </tr>\n",
       "  </tbody>\n",
       "</table>\n",
       "</div>"
      ],
      "text/plain": [
       "         Country  Year  GDP_Per_Capita\n",
       "4148  Luxembourg  2020   111751.314751"
      ]
     },
     "execution_count": 25,
     "metadata": {},
     "output_type": "execute_result"
    }
   ],
   "source": [
    "gdp_topgdp2020 = gdp_df[gdp_df['Year']==2020]\n",
    "gdp_topgdp2020.nlargest(1, 'GDP_Per_Capita', keep='first')"
   ]
  },
  {
   "cell_type": "markdown",
   "id": "c4163322-b0ee-4cab-b735-d9812f8a72fe",
   "metadata": {},
   "source": [
    "Question 13: Which country had the lowest GDP per capita in 2020? Create a plot showing how this country's GDP per capita has changed over the timespan of the dataset. Bonus question: Is it true in general that coutries had a higher GDP per capita in 2020 than in 1990? Which countries had lower GDP per capita in 2020 than in 1990?"
   ]
  },
  {
   "cell_type": "code",
   "execution_count": 27,
   "id": "4e4d0229-d2a7-41c8-9d25-969d3ac74246",
   "metadata": {},
   "outputs": [
    {
     "data": {
      "text/html": [
       "<div>\n",
       "<style scoped>\n",
       "    .dataframe tbody tr th:only-of-type {\n",
       "        vertical-align: middle;\n",
       "    }\n",
       "\n",
       "    .dataframe tbody tr th {\n",
       "        vertical-align: top;\n",
       "    }\n",
       "\n",
       "    .dataframe thead th {\n",
       "        text-align: right;\n",
       "    }\n",
       "</style>\n",
       "<table border=\"1\" class=\"dataframe\">\n",
       "  <thead>\n",
       "    <tr style=\"text-align: right;\">\n",
       "      <th></th>\n",
       "      <th>Country</th>\n",
       "      <th>Year</th>\n",
       "      <th>GDP_Per_Capita</th>\n",
       "    </tr>\n",
       "  </thead>\n",
       "  <tbody>\n",
       "    <tr>\n",
       "      <th>973</th>\n",
       "      <td>Burundi</td>\n",
       "      <td>2020</td>\n",
       "      <td>711.355263</td>\n",
       "    </tr>\n",
       "  </tbody>\n",
       "</table>\n",
       "</div>"
      ],
      "text/plain": [
       "     Country  Year  GDP_Per_Capita\n",
       "973  Burundi  2020      711.355263"
      ]
     },
     "execution_count": 27,
     "metadata": {},
     "output_type": "execute_result"
    }
   ],
   "source": [
    "gdp_lowgdp2020 = gdp_df[gdp_df['Year']==2020]\n",
    "gdp_lowgdp2020.nsmallest(1, 'GDP_Per_Capita', keep='first')"
   ]
  },
  {
   "cell_type": "markdown",
   "id": "72cfcf60-341f-493b-8053-5a69611fd108",
   "metadata": {},
   "source": [
    "Question 14: "
   ]
  },
  {
   "cell_type": "markdown",
   "id": "a4e5e187-dd06-4718-a129-9b6ee78b38f1",
   "metadata": {},
   "source": [
    "Question 15: Drop the Value Footnotes column and rename the remaining three to 'Country', 'Year', and 'Internet_Users_Pct'."
   ]
  },
  {
   "cell_type": "code",
   "execution_count": 29,
   "id": "1ace97cd-ae42-41dc-9b7e-1c273f9d834c",
   "metadata": {},
   "outputs": [
    {
     "name": "stdout",
     "output_type": "stream",
     "text": [
      "          Country  Year  Internet_Users_Pct\n",
      "0     Afghanistan  2021         1517.016266\n",
      "1     Afghanistan  2020         1968.341002\n",
      "2     Afghanistan  2019         2079.921861\n",
      "3     Afghanistan  2018         2060.698973\n",
      "4     Afghanistan  2017         2096.093111\n",
      "...           ...   ...                 ...\n",
      "7657     Zimbabwe  1994         2670.106615\n",
      "7658     Zimbabwe  1993         2458.783255\n",
      "7659     Zimbabwe  1992         2468.278257\n",
      "7660     Zimbabwe  1991         2781.787843\n",
      "7661     Zimbabwe  1990         2704.757299\n",
      "\n",
      "[7662 rows x 3 columns]\n"
     ]
    }
   ],
   "source": [
    "gdp_df.rename(columns={'Country or Area':'Country','GDP_Per_Capita':'Internet_Users_Pct'},inplace=True)\n",
    "print(gdp_df)"
   ]
  },
  {
   "cell_type": "markdown",
   "id": "fe44dae6-221b-4770-a474-e537528b2e40",
   "metadata": {},
   "source": [
    "Question 16: Look at the number of observations in this dataset per year. What do you notice?"
   ]
  },
  {
   "cell_type": "markdown",
   "id": "e0d54789-58a0-4069-824f-3df2fba775f1",
   "metadata": {},
   "source": [
    "Question 17: What is the first year to have a non-zero internet users percentage value?"
   ]
  },
  {
   "cell_type": "code",
   "execution_count": 35,
   "id": "aabc2a88-c138-4e8b-a67f-019a86612dfa",
   "metadata": {},
   "outputs": [
    {
     "data": {
      "text/html": [
       "<div>\n",
       "<style scoped>\n",
       "    .dataframe tbody tr th:only-of-type {\n",
       "        vertical-align: middle;\n",
       "    }\n",
       "\n",
       "    .dataframe tbody tr th {\n",
       "        vertical-align: top;\n",
       "    }\n",
       "\n",
       "    .dataframe thead th {\n",
       "        text-align: right;\n",
       "    }\n",
       "</style>\n",
       "<table border=\"1\" class=\"dataframe\">\n",
       "  <thead>\n",
       "    <tr style=\"text-align: right;\">\n",
       "      <th></th>\n",
       "      <th>Country</th>\n",
       "      <th>Year</th>\n",
       "      <th>Internet_Users_Pct</th>\n",
       "    </tr>\n",
       "  </thead>\n",
       "  <tbody>\n",
       "    <tr>\n",
       "      <th>52</th>\n",
       "      <td>Africa Eastern and Southern</td>\n",
       "      <td>1990</td>\n",
       "      <td>3037.297466</td>\n",
       "    </tr>\n",
       "  </tbody>\n",
       "</table>\n",
       "</div>"
      ],
      "text/plain": [
       "                        Country  Year  Internet_Users_Pct\n",
       "52  Africa Eastern and Southern  1990         3037.297466"
      ]
     },
     "execution_count": 35,
     "metadata": {},
     "output_type": "execute_result"
    }
   ],
   "source": [
    "intusers_firstnonzero = gdp_df[gdp_df['Internet_Users_Pct']>0]\n",
    "intusers_firstnonzero.nsmallest(1, 'Year', keep='first')"
   ]
  },
  {
   "cell_type": "markdown",
   "id": "0727070f-da0e-4299-890a-d706a24da4f6",
   "metadata": {},
   "source": [
    "Question 18: How does the distribution of internet users percent differ for 2000 and 2014?"
   ]
  },
  {
   "cell_type": "code",
   "execution_count": 44,
   "id": "b9a9fcd9-740a-4856-a201-7d2ef86cf36f",
   "metadata": {},
   "outputs": [
    {
     "name": "stdout",
     "output_type": "stream",
     "text": [
      "          Country  Year  Internet_Users_Pct\n",
      "7     Afghanistan  2014         2144.449634\n",
      "8     Afghanistan  2013         2165.340915\n",
      "9     Afghanistan  2012         2122.830759\n",
      "10    Afghanistan  2011         1961.096317\n",
      "11    Afghanistan  2010         2026.163818\n",
      "...           ...   ...                 ...\n",
      "7647     Zimbabwe  2004         1934.164642\n",
      "7648     Zimbabwe  2003         2067.880374\n",
      "7649     Zimbabwe  2002         2510.228923\n",
      "7650     Zimbabwe  2001         2772.325234\n",
      "7651     Zimbabwe  2000         2750.601236\n",
      "\n",
      "[3563 rows x 3 columns]\n"
     ]
    }
   ],
   "source": [
    "intuser_00to14 = gdp_df[(gdp_df['Year'] >= 2000) & (gdp_df['Year'] <= 2014)]\n",
    "print(intuser_00to14)"
   ]
  },
  {
   "cell_type": "code",
   "execution_count": 66,
   "id": "db27562f-d1a3-4ad9-8a0b-9716bbca2eaf",
   "metadata": {},
   "outputs": [],
   "source": [
    "#sns.displot( data=gdp_df[intuser_00to14[\"Internet_Users_Pct\"]], kde=True ) *Create a graph"
   ]
  },
  {
   "cell_type": "markdown",
   "id": "2420a6a0-8d6b-4892-b6b7-bc78a45a37a5",
   "metadata": {},
   "source": [
    "Question 19: For how many countries was the percentage of internet users below 5% in 2014?"
   ]
  },
  {
   "cell_type": "code",
   "execution_count": 91,
   "id": "f922bf67-a0b8-4a6a-b933-db5f0482e976",
   "metadata": {},
   "outputs": [
    {
     "name": "stdout",
     "output_type": "stream",
     "text": [
      "Empty DataFrame\n",
      "Columns: [Country, Year, Internet_Users_Pct]\n",
      "Index: []\n"
     ]
    }
   ],
   "source": [
    "intuser_countrybelow5 = gdp_df[(gdp_df['Internet_Users_Pct'] < 5)]\n",
    "print(intuser_countrybelow5)"
   ]
  },
  {
   "cell_type": "code",
   "execution_count": null,
   "id": "7c027622-db21-45fa-8211-43850ae8597d",
   "metadata": {},
   "outputs": [],
   "source": []
  }
 ],
 "metadata": {
  "kernelspec": {
   "display_name": "Python 3 (ipykernel)",
   "language": "python",
   "name": "python3"
  },
  "language_info": {
   "codemirror_mode": {
    "name": "ipython",
    "version": 3
   },
   "file_extension": ".py",
   "mimetype": "text/x-python",
   "name": "python",
   "nbconvert_exporter": "python",
   "pygments_lexer": "ipython3",
   "version": "3.12.4"
  }
 },
 "nbformat": 4,
 "nbformat_minor": 5
}
